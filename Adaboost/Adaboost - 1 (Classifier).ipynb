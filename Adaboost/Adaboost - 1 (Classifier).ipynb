{
 "cells": [
  {
   "cell_type": "markdown",
   "id": "44a13f2a",
   "metadata": {},
   "source": [
    "#### Name: Ananya Godse SAP ID: 60009220161"
   ]
  },
  {
   "cell_type": "markdown",
   "id": "a49b7e22",
   "metadata": {},
   "source": [
    "#### Importing libraries"
   ]
  },
  {
   "cell_type": "code",
   "execution_count": 1,
   "id": "b8fed0de",
   "metadata": {},
   "outputs": [],
   "source": [
    "from numpy import std, mean, arange\n",
    "import matplotlib.pyplot as plt\n",
    "from sklearn.datasets import load_iris, make_classification, make_regression\n",
    "from sklearn.model_selection import train_test_split, cross_val_score, RepeatedStratifiedKFold, RepeatedKFold, GridSearchCV\n",
    "from sklearn.metrics import accuracy_score\n",
    "from sklearn.ensemble import AdaBoostClassifier, AdaBoostRegressor\n",
    "from sklearn.naive_bayes import GaussianNB\n",
    "from sklearn.linear_model import LogisticRegression"
   ]
  },
  {
   "cell_type": "markdown",
   "id": "9bd7f055",
   "metadata": {},
   "source": [
    "### Iris Dataset"
   ]
  },
  {
   "cell_type": "code",
   "execution_count": 2,
   "id": "ba54802a",
   "metadata": {},
   "outputs": [],
   "source": [
    "iris = load_iris()\n",
    "X = iris.data\n",
    "y = iris.target"
   ]
  },
  {
   "cell_type": "markdown",
   "id": "20d1ed02",
   "metadata": {},
   "source": [
    "#### Splitting the data into training and testing"
   ]
  },
  {
   "cell_type": "code",
   "execution_count": 3,
   "id": "e0002630",
   "metadata": {},
   "outputs": [],
   "source": [
    "X_train, X_test, y_train, y_test = train_test_split(X, y, test_size=0.2, random_state=42)"
   ]
  },
  {
   "cell_type": "markdown",
   "id": "e0d414de",
   "metadata": {},
   "source": [
    "#### Default AdaBoost Classifier"
   ]
  },
  {
   "cell_type": "code",
   "execution_count": 4,
   "id": "d2153ae8",
   "metadata": {},
   "outputs": [],
   "source": [
    "clf = AdaBoostClassifier()\n",
    "clf.fit(X_train, y_train)\n",
    "y_pred = clf.predict(X_test)"
   ]
  },
  {
   "cell_type": "code",
   "execution_count": 5,
   "id": "499d6c78",
   "metadata": {},
   "outputs": [
    {
     "data": {
      "text/plain": [
       "1.0"
      ]
     },
     "execution_count": 5,
     "metadata": {},
     "output_type": "execute_result"
    }
   ],
   "source": [
    "accuracy = accuracy_score(y_test, y_pred)\n",
    "accuracy"
   ]
  },
  {
   "cell_type": "markdown",
   "id": "6fe9b0bb",
   "metadata": {},
   "source": [
    "#### Using a Naive Bayes Gaussian Classifer as the Base Learner"
   ]
  },
  {
   "cell_type": "code",
   "execution_count": 6,
   "id": "afdbb6a9",
   "metadata": {},
   "outputs": [],
   "source": [
    "gaussian = GaussianNB()\n",
    "clf1 = AdaBoostClassifier(estimator=gaussian)\n",
    "clf1.fit(X_train, y_train)\n",
    "y_pred1 = clf1.predict(X_test)"
   ]
  },
  {
   "cell_type": "code",
   "execution_count": 7,
   "id": "230ef815",
   "metadata": {},
   "outputs": [
    {
     "data": {
      "text/plain": [
       "1.0"
      ]
     },
     "execution_count": 7,
     "metadata": {},
     "output_type": "execute_result"
    }
   ],
   "source": [
    "accuracy1 = accuracy_score(y_test, y_pred1)\n",
    "accuracy1"
   ]
  },
  {
   "cell_type": "markdown",
   "id": "b23b790e",
   "metadata": {},
   "source": [
    "#### Using a Logistic Regressor as the Base Learner"
   ]
  },
  {
   "cell_type": "code",
   "execution_count": 8,
   "id": "44b4a0b3",
   "metadata": {},
   "outputs": [],
   "source": [
    "logreg = LogisticRegression()\n",
    "clf2 = AdaBoostClassifier(estimator=logreg)\n",
    "clf2.fit(X_train, y_train)\n",
    "y_pred2 = clf2.predict(X_test)"
   ]
  },
  {
   "cell_type": "code",
   "execution_count": 9,
   "id": "571a0a3c",
   "metadata": {},
   "outputs": [
    {
     "data": {
      "text/plain": [
       "0.9666666666666667"
      ]
     },
     "execution_count": 9,
     "metadata": {},
     "output_type": "execute_result"
    }
   ],
   "source": [
    "accuracy2 = accuracy_score(y_test, y_pred2)\n",
    "accuracy2"
   ]
  },
  {
   "cell_type": "markdown",
   "id": "9b5a7642",
   "metadata": {},
   "source": [
    "### Synthetic Dataset with K - Cross Fold Validation"
   ]
  },
  {
   "cell_type": "markdown",
   "id": "65dd61e6",
   "metadata": {},
   "source": [
    "#### Default AdaBoost Classifier"
   ]
  },
  {
   "cell_type": "code",
   "execution_count": 10,
   "id": "1a62299f",
   "metadata": {},
   "outputs": [
    {
     "name": "stdout",
     "output_type": "stream",
     "text": [
      "Mean = 0.82 and Standard deviation = 0.03\n"
     ]
    }
   ],
   "source": [
    "X1, y1 = make_classification(n_samples=1000, n_informative=15, n_redundant=5, random_state=42, n_features=20)\n",
    "cv = RepeatedStratifiedKFold(n_splits=10, n_repeats=3)\n",
    "model = AdaBoostClassifier()\n",
    "n_scores = cross_val_score(model, X1, y1, scoring=\"accuracy\", cv=cv, n_jobs=-1, error_score=\"raise\")\n",
    "print(f\"Mean = {mean(n_scores):.2f} and Standard deviation = {std(n_scores):.2f}\")"
   ]
  },
  {
   "cell_type": "code",
   "execution_count": 11,
   "id": "8179fb0c",
   "metadata": {},
   "outputs": [
    {
     "name": "stdout",
     "output_type": "stream",
     "text": [
      "Predicted class is [1]\n"
     ]
    }
   ],
   "source": [
    "model.fit(X1, y1)\n",
    "\n",
    "row = [[ 2.4825477 ,  5.33328897, -0.9083723 , -2.30440308,  2.14957035,\n",
    "       -1.12704206,  1.51310647,  0.05516024, -2.32440659, -2.08010276,\n",
    "       -0.01265744,  2.88250102, -3.42867199, -2.80708089, -3.29485915,\n",
    "       -4.89135836, -4.32496882, -2.70950144,  0.72359999,  0.45140537]]\n",
    "\n",
    "y_hat = model.predict(row)\n",
    "print(f\"Predicted class is {y_hat}\")"
   ]
  },
  {
   "cell_type": "markdown",
   "id": "7b3de266",
   "metadata": {},
   "source": [
    "#### Using a Logistic Regressor as the Base Learner"
   ]
  },
  {
   "cell_type": "code",
   "execution_count": 12,
   "id": "0257e247",
   "metadata": {},
   "outputs": [
    {
     "name": "stdout",
     "output_type": "stream",
     "text": [
      "Mean is 0.82 and Standard deviation is 0.04\n"
     ]
    }
   ],
   "source": [
    "logreg1 = LogisticRegression()\n",
    "model1 = AdaBoostClassifier(estimator=logreg)\n",
    "n_scores1 = cross_val_score(model1, X1, y1, scoring=\"accuracy\", cv=cv, n_jobs=-1, error_score=\"raise\")\n",
    "print(f\"Mean is {mean(n_scores1):.2f} and Standard deviation is {std(n_scores1):.2f}\")"
   ]
  },
  {
   "cell_type": "code",
   "execution_count": 13,
   "id": "7a093390",
   "metadata": {},
   "outputs": [
    {
     "name": "stdout",
     "output_type": "stream",
     "text": [
      "Predicted class is [1]\n"
     ]
    }
   ],
   "source": [
    "model1.fit(X1, y1)\n",
    "y_hat1 = model1.predict(row)\n",
    "print(f\"Predicted class is {y_hat1}\")"
   ]
  },
  {
   "cell_type": "markdown",
   "id": "8bc7eb25",
   "metadata": {},
   "source": [
    "### AdaBoost Regressor"
   ]
  },
  {
   "cell_type": "code",
   "execution_count": 14,
   "id": "0d5b1d1b",
   "metadata": {},
   "outputs": [
    {
     "name": "stdout",
     "output_type": "stream",
     "text": [
      "Mean is -73.08 and Standard deviation is 6.38\n"
     ]
    }
   ],
   "source": [
    "X2, y2 = make_regression(n_samples=1000, n_informative=15, random_state=6, n_features=20, noise=0.1)\n",
    "model2 = AdaBoostRegressor()\n",
    "cv1 = RepeatedKFold(n_splits=10)\n",
    "n_scores2 = cross_val_score(model2, X2, y2, scoring=\"neg_mean_absolute_error\", cv=cv1, n_jobs=-1, error_score=\"raise\")\n",
    "print(f\"Mean is {mean(n_scores2):.2f} and Standard deviation is {std(n_scores2):.2f}\")"
   ]
  },
  {
   "cell_type": "markdown",
   "id": "821388ea",
   "metadata": {},
   "source": [
    "### Hyperparameter Tuning"
   ]
  },
  {
   "cell_type": "code",
   "execution_count": 15,
   "id": "073e0b11",
   "metadata": {},
   "outputs": [
    {
     "name": "stdout",
     "output_type": "stream",
     "text": [
      "Model : 0.100 \n",
      " Mean = 0.77 and Standard deviation = 0.03 \n",
      "\n",
      "\n",
      "Model : 0.200 \n",
      " Mean = 0.79 and Standard deviation = 0.03 \n",
      "\n",
      "\n",
      "Model : 0.300 \n",
      " Mean = 0.81 and Standard deviation = 0.03 \n",
      "\n",
      "\n",
      "Model : 0.400 \n",
      " Mean = 0.83 and Standard deviation = 0.04 \n",
      "\n",
      "\n",
      "Model : 0.500 \n",
      " Mean = 0.82 and Standard deviation = 0.04 \n",
      "\n",
      "\n",
      "Model : 0.600 \n",
      " Mean = 0.82 and Standard deviation = 0.03 \n",
      "\n",
      "\n",
      "Model : 0.700 \n",
      " Mean = 0.83 and Standard deviation = 0.03 \n",
      "\n",
      "\n",
      "Model : 0.800 \n",
      " Mean = 0.83 and Standard deviation = 0.03 \n",
      "\n",
      "\n",
      "Model : 0.900 \n",
      " Mean = 0.82 and Standard deviation = 0.04 \n",
      "\n",
      "\n",
      "Model : 1.000 \n",
      " Mean = 0.82 and Standard deviation = 0.04 \n",
      "\n",
      "\n",
      "Model : 1.100 \n",
      " Mean = 0.82 and Standard deviation = 0.03 \n",
      "\n",
      "\n",
      "Model : 1.200 \n",
      " Mean = 0.81 and Standard deviation = 0.03 \n",
      "\n",
      "\n",
      "Model : 1.300 \n",
      " Mean = 0.82 and Standard deviation = 0.04 \n",
      "\n",
      "\n",
      "Model : 1.400 \n",
      " Mean = 0.80 and Standard deviation = 0.03 \n",
      "\n",
      "\n",
      "Model : 1.500 \n",
      " Mean = 0.79 and Standard deviation = 0.04 \n",
      "\n",
      "\n",
      "Model : 1.600 \n",
      " Mean = 0.80 and Standard deviation = 0.03 \n",
      "\n",
      "\n",
      "Model : 1.700 \n",
      " Mean = 0.78 and Standard deviation = 0.04 \n",
      "\n",
      "\n",
      "Model : 1.800 \n",
      " Mean = 0.77 and Standard deviation = 0.04 \n",
      "\n",
      "\n",
      "Model : 1.900 \n",
      " Mean = 0.75 and Standard deviation = 0.04 \n",
      "\n",
      "\n",
      "Model : 2.000 \n",
      " Mean = 0.32 and Standard deviation = 0.04 \n",
      "\n",
      "\n"
     ]
    },
    {
     "data": {
      "image/png": "[encoded data removed]",
      "text/plain": [
       "<Figure size 640x480 with 1 Axes>"
      ]
     },
     "metadata": {},
     "output_type": "display_data"
    }
   ],
   "source": [
    "def get_dataset():\n",
    "    X, y = make_classification(n_samples=1000, n_informative=15, n_redundant=5, random_state=42, n_features=20)\n",
    "    return X, y\n",
    "\n",
    "\n",
    "def get_model():\n",
    "    models = {}\n",
    "\n",
    "    for i in arange(0.1, 2.1, 0.1):\n",
    "        key = \"%.3f\"%i\n",
    "        models[key] = AdaBoostClassifier(learning_rate=i)\n",
    "    return models\n",
    "\n",
    "\n",
    "def evaluate_model(model, X, y):\n",
    "    cv = RepeatedStratifiedKFold(n_splits=10, n_repeats=3)\n",
    "    n_scores = cross_val_score(model, X, y, scoring=\"accuracy\", cv=cv, n_jobs=-1, error_score=\"raise\")\n",
    "    return n_scores\n",
    "\n",
    "\n",
    "X3, y3 =  get_dataset()\n",
    "\n",
    "models = get_model()\n",
    "\n",
    "results, names = [], []\n",
    "\n",
    "for name, model in models.items():\n",
    "    scores = evaluate_model(model, X3, y3)\n",
    "    results.append(scores)\n",
    "    names.append(name)\n",
    "    print(f\"Model : {name} \\n Mean = {mean(scores):.2f} and Standard deviation = {std(scores):.2f} \\n\\n\")\n",
    "\n",
    "plt.boxplot(results, labels=names, showmeans=True)\n",
    "plt.xticks(rotation=45)\n",
    "plt.show()"
   ]
  },
  {
   "cell_type": "markdown",
   "id": "93c554b8",
   "metadata": {},
   "source": [
    "#### Using GridSearchCV"
   ]
  },
  {
   "cell_type": "code",
   "execution_count": 17,
   "id": "caa165fd",
   "metadata": {},
   "outputs": [
    {
     "name": "stdout",
     "output_type": "stream",
     "text": [
      "Best Score is 0.84 using {'learning_rate': 0.1, 'n_estimators': 500}\n",
      "Means = 0.69  & Standard Deviation = 0.05  using {'learning_rate': 0.0001, 'n_estimators': 50} \n",
      "\n",
      "Means = 0.69  & Standard Deviation = 0.05  using {'learning_rate': 0.0001, 'n_estimators': 100} \n",
      "\n",
      "Means = 0.69  & Standard Deviation = 0.05  using {'learning_rate': 0.0001, 'n_estimators': 150} \n",
      "\n",
      "Means = 0.69  & Standard Deviation = 0.05  using {'learning_rate': 0.0001, 'n_estimators': 500} \n",
      "\n",
      "Means = 0.69  & Standard Deviation = 0.05  using {'learning_rate': 0.001, 'n_estimators': 50} \n",
      "\n",
      "Means = 0.69  & Standard Deviation = 0.05  using {'learning_rate': 0.001, 'n_estimators': 100} \n",
      "\n",
      "Means = 0.69  & Standard Deviation = 0.05  using {'learning_rate': 0.001, 'n_estimators': 150} \n",
      "\n",
      "Means = 0.69  & Standard Deviation = 0.05  using {'learning_rate': 0.001, 'n_estimators': 500} \n",
      "\n",
      "Means = 0.69  & Standard Deviation = 0.05  using {'learning_rate': 0.01, 'n_estimators': 50} \n",
      "\n",
      "Means = 0.70  & Standard Deviation = 0.05  using {'learning_rate': 0.01, 'n_estimators': 100} \n",
      "\n",
      "Means = 0.70  & Standard Deviation = 0.05  using {'learning_rate': 0.01, 'n_estimators': 150} \n",
      "\n",
      "Means = 0.77  & Standard Deviation = 0.04  using {'learning_rate': 0.01, 'n_estimators': 500} \n",
      "\n",
      "Means = 0.77  & Standard Deviation = 0.04  using {'learning_rate': 0.1, 'n_estimators': 50} \n",
      "\n",
      "Means = 0.80  & Standard Deviation = 0.03  using {'learning_rate': 0.1, 'n_estimators': 100} \n",
      "\n",
      "Means = 0.82  & Standard Deviation = 0.03  using {'learning_rate': 0.1, 'n_estimators': 150} \n",
      "\n",
      "Means = 0.84  & Standard Deviation = 0.03  using {'learning_rate': 0.1, 'n_estimators': 500} \n",
      "\n",
      "Means = 0.82  & Standard Deviation = 0.04  using {'learning_rate': 1.0, 'n_estimators': 50} \n",
      "\n",
      "Means = 0.83  & Standard Deviation = 0.03  using {'learning_rate': 1.0, 'n_estimators': 100} \n",
      "\n",
      "Means = 0.83  & Standard Deviation = 0.03  using {'learning_rate': 1.0, 'n_estimators': 150} \n",
      "\n",
      "Means = 0.82  & Standard Deviation = 0.03  using {'learning_rate': 1.0, 'n_estimators': 500} \n",
      "\n"
     ]
    }
   ],
   "source": [
    "grid = dict()\n",
    "X4, y4 = make_classification(n_samples=1000, n_informative=15, n_redundant=5, random_state=42, n_features=20)\n",
    "grid[\"n_estimators\"] = [50, 100, 150, 500]\n",
    "grid[\"learning_rate\"] = [0.0001, 0.001, 0.01, 0.1, 1.0]\n",
    "cv2 = RepeatedStratifiedKFold(n_splits= 10, n_repeats=3)\n",
    "\n",
    "model3 = AdaBoostClassifier()\n",
    "\n",
    "grid_search = GridSearchCV(estimator=model3, param_grid=grid, n_jobs=-1, cv=cv2, scoring=\"accuracy\")\n",
    "grid_result = grid_search.fit(X4, y4)\n",
    "\n",
    "print(f\"Best Score is {grid_result.best_score_:.2f} using {grid_result.best_params_}\")\n",
    "\n",
    "means = grid_result.cv_results_[\"mean_test_score\"]\n",
    "stds = grid_result.cv_results_[\"std_test_score\"]\n",
    "params = grid_result.cv_results_[\"params\"]\n",
    "\n",
    "for mean, std, param in zip(means, stds, params):\n",
    "    print(f\"Means = {mean:.2f}  & Standard Deviation = {std:.2f}  using {param} \\n\")"
   ]
  },
  {
   "cell_type": "code",
   "execution_count": null,
   "id": "0511519c",
   "metadata": {},
   "outputs": [],
   "source": []
  }
 ],
 "metadata": {
  "kernelspec": {
   "display_name": "Python 3 (ipykernel)",
   "language": "python",
   "name": "python3"
  },
  "language_info": {
   "codemirror_mode": {
    "name": "ipython",
    "version": 3
   },
   "file_extension": ".py",
   "mimetype": "text/x-python",
   "name": "python",
   "nbconvert_exporter": "python",
   "pygments_lexer": "ipython3",
   "version": "3.11.5"
  }
 },
 "nbformat": 4,
 "nbformat_minor": 5
}
