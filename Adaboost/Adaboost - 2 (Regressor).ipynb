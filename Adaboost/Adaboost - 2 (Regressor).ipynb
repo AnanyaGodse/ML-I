{
 "cells": [
  {
   "cell_type": "markdown",
   "metadata": {},
   "source": [
    "#### Implementing AdaBoost using scikit library"
   ]
  },
  {
   "cell_type": "code",
   "execution_count": 9,
   "metadata": {},
   "outputs": [],
   "source": [
    "from sklearn.ensemble import AdaBoostClassifier\n",
    "import sklearn.datasets as datasets\n",
    "from sklearn.model_selection import train_test_split\n",
    "from sklearn import metrics\n",
    "import warnings\n",
    "warnings.filterwarnings(\"ignore\")"
   ]
  },
  {
   "cell_type": "code",
   "execution_count": 75,
   "metadata": {},
   "outputs": [],
   "source": [
    "iris = datasets.load_iris()\n",
    "X = iris.data\n",
    "y = iris.target"
   ]
  },
  {
   "cell_type": "code",
   "execution_count": 76,
   "metadata": {},
   "outputs": [],
   "source": [
    "X_train , X_test , y_train ,y_test = train_test_split(X , y, test_size=0.2 , random_state = 42)"
   ]
  },
  {
   "cell_type": "code",
   "execution_count": 16,
   "metadata": {},
   "outputs": [],
   "source": [
    "clf = AdaBoostClassifier()\n",
    "\n",
    "clf.fit(X_train , y_train)\n",
    "\n",
    "y_pred = clf.predict(X_test)\n",
    "\n"
   ]
  },
  {
   "cell_type": "code",
   "execution_count": 17,
   "metadata": {},
   "outputs": [
    {
     "name": "stdout",
     "output_type": "stream",
     "text": [
      "Accuracy is 1.0\n"
     ]
    }
   ],
   "source": [
    "print(f\"Accuracy is {metrics.accuracy_score(y_pred , y_test)}\")"
   ]
  },
  {
   "cell_type": "markdown",
   "metadata": {},
   "source": [
    "#### Use a different Base Learners"
   ]
  },
  {
   "cell_type": "code",
   "execution_count": 22,
   "metadata": {},
   "outputs": [],
   "source": [
    "from sklearn.naive_bayes import GaussianNB\n",
    "\n",
    "gauss = GaussianNB()\n",
    "\n",
    "ada = AdaBoostClassifier(estimator=gauss)\n",
    "\n",
    "ada.fit(X_train , y_train)\n",
    "\n",
    "y_pred = ada.predict(X_test)\n"
   ]
  },
  {
   "cell_type": "code",
   "execution_count": 23,
   "metadata": {},
   "outputs": [
    {
     "name": "stdout",
     "output_type": "stream",
     "text": [
      "Accuracy is 1.0\n"
     ]
    }
   ],
   "source": [
    "print(f\"Accuracy is {metrics.accuracy_score(y_pred , y_test)}\")"
   ]
  },
  {
   "cell_type": "code",
   "execution_count": 24,
   "metadata": {},
   "outputs": [],
   "source": [
    "from sklearn.linear_model import LogisticRegression\n",
    "\n",
    "log = LogisticRegression()\n",
    "\n",
    "ada = AdaBoostClassifier(estimator=log)\n",
    "\n",
    "ada.fit(X_train , y_train)\n",
    "\n",
    "y_pred = ada.predict(X_test)\n"
   ]
  },
  {
   "cell_type": "code",
   "execution_count": 25,
   "metadata": {},
   "outputs": [
    {
     "name": "stdout",
     "output_type": "stream",
     "text": [
      "Accuracy is 0.9666666666666667\n"
     ]
    }
   ],
   "source": [
    "print(f\"Accuracy is {metrics.accuracy_score(y_pred , y_test)}\")"
   ]
  },
  {
   "cell_type": "markdown",
   "metadata": {},
   "source": [
    "#### Making Synthetic Data"
   ]
  },
  {
   "cell_type": "code",
   "execution_count": 42,
   "metadata": {},
   "outputs": [
    {
     "name": "stdout",
     "output_type": "stream",
     "text": [
      "Mean is 0.81 and Standard deviation is 0.03\n"
     ]
    }
   ],
   "source": [
    "from numpy import mean\n",
    "from numpy import std\n",
    "from sklearn.datasets import make_classification\n",
    "from sklearn.model_selection import cross_val_score\n",
    "from sklearn.model_selection import RepeatedStratifiedKFold\n",
    "\n",
    "model = AdaBoostClassifier()\n",
    "\n",
    "X, y = make_classification(n_samples=1000 , n_informative=15 , n_redundant=5 , random_state=42 , n_features=20)\n",
    "\n",
    "cv = RepeatedStratifiedKFold(n_splits= 10 , n_repeats=3)\n",
    "\n",
    "n_scores = cross_val_score(model , X , y , scoring = \"accuracy\" , cv = cv , n_jobs= -1 , error_score=\"raise\")\n",
    "\n",
    "print(f\"Mean is {mean(n_scores):.2f} and Standard deviation is {std(n_scores):.2f}\")"
   ]
  },
  {
   "cell_type": "code",
   "execution_count": 48,
   "metadata": {},
   "outputs": [
    {
     "name": "stdout",
     "output_type": "stream",
     "text": [
      "Predicted class is [1]\n"
     ]
    }
   ],
   "source": [
    "model.fit(X,y)\n",
    "\n",
    "row = [[ 2.4825477 ,  5.33328897, -0.9083723 , -2.30440308,  2.14957035,\n",
    "       -1.12704206,  1.51310647,  0.05516024, -2.32440659, -2.08010276,\n",
    "       -0.01265744,  2.88250102, -3.42867199, -2.80708089, -3.29485915,\n",
    "       -4.89135836, -4.32496882, -2.70950144,  0.72359999,  0.45140537]]\n",
    "\n",
    "y_hat = model.predict(row)\n",
    "print(f\"Predicted class is {y_hat}\")"
   ]
  },
  {
   "cell_type": "markdown",
   "metadata": {},
   "source": [
    "#### Using Logistic as Weak Learner"
   ]
  },
  {
   "cell_type": "code",
   "execution_count": 55,
   "metadata": {},
   "outputs": [
    {
     "name": "stdout",
     "output_type": "stream",
     "text": [
      "Mean is 0.81 and Standard deviation is 0.04\n"
     ]
    }
   ],
   "source": [
    "from sklearn.linear_model import LogisticRegression\n",
    "\n",
    "log = LogisticRegression()\n",
    "\n",
    "model = AdaBoostClassifier(estimator=log)\n",
    "\n",
    "cv = RepeatedStratifiedKFold()\n",
    "\n",
    "cv = RepeatedStratifiedKFold(n_splits= 10 , n_repeats=3)\n",
    "\n",
    "n_scores = cross_val_score(model , X , y , scoring = \"accuracy\" , cv = cv , n_jobs= -1 , error_score=\"raise\")\n",
    "\n",
    "print(f\"Mean is {mean(n_scores):.2f} and Standard deviation is {std(n_scores):.2f}\")"
   ]
  },
  {
   "cell_type": "code",
   "execution_count": 56,
   "metadata": {},
   "outputs": [
    {
     "name": "stdout",
     "output_type": "stream",
     "text": [
      "Predicted class is [1]\n"
     ]
    }
   ],
   "source": [
    "model.fit(X,y)\n",
    "\n",
    "row = [[ 2.4825477 ,  5.33328897, -0.9083723 , -2.30440308,  2.14957035,\n",
    "       -1.12704206,  1.51310647,  0.05516024, -2.32440659, -2.08010276,\n",
    "       -0.01265744,  2.88250102, -3.42867199, -2.80708089, -3.29485915,\n",
    "       -4.89135836, -4.32496882, -2.70950144,  0.72359999,  0.45140537]]\n",
    "\n",
    "y_hat = model.predict(row)\n",
    "print(f\"Predicted class is {y_hat}\")"
   ]
  },
  {
   "cell_type": "markdown",
   "metadata": {},
   "source": [
    "#### AdaBoost Regressor"
   ]
  },
  {
   "cell_type": "code",
   "execution_count": 66,
   "metadata": {},
   "outputs": [
    {
     "name": "stdout",
     "output_type": "stream",
     "text": [
      "Mean is -72.69 and Standard deviation is 6.21\n"
     ]
    }
   ],
   "source": [
    "from sklearn.datasets import make_regression\n",
    "from sklearn.ensemble import AdaBoostRegressor\n",
    "from sklearn.model_selection import RepeatedKFold\n",
    "\n",
    "X , y = make_regression(n_samples=1000 , n_informative=15  , random_state=6 , n_features=20 , noise=0.1)\n",
    "\n",
    "model = AdaBoostRegressor()\n",
    "\n",
    "cv = RepeatedKFold(n_splits= 10)\n",
    "\n",
    "n_scores = cross_val_score(model , X , y , scoring = \"neg_mean_absolute_error\" , cv = cv , n_jobs= -1 , error_score=\"raise\")\n",
    "\n",
    "print(f\"Mean is {mean(n_scores):.2f} and Standard deviation is {std(n_scores):.2f}\")"
   ]
  },
  {
   "cell_type": "markdown",
   "metadata": {},
   "source": [
    "#### Hyperparameter Tuning\n"
   ]
  },
  {
   "cell_type": "code",
   "execution_count": 72,
   "metadata": {},
   "outputs": [
    {
     "name": "stdout",
     "output_type": "stream",
     "text": [
      "Model : 0.100 \n",
      " Mean is 0.78 and Standard deviation is 0.05 \n",
      "\n",
      "\n",
      "Model : 0.200 \n",
      " Mean is 0.81 and Standard deviation is 0.05 \n",
      "\n",
      "\n",
      "Model : 0.300 \n",
      " Mean is 0.82 and Standard deviation is 0.03 \n",
      "\n",
      "\n",
      "Model : 0.400 \n",
      " Mean is 0.82 and Standard deviation is 0.03 \n",
      "\n",
      "\n",
      "Model : 0.500 \n",
      " Mean is 0.83 and Standard deviation is 0.03 \n",
      "\n",
      "\n",
      "Model : 0.600 \n",
      " Mean is 0.83 and Standard deviation is 0.03 \n",
      "\n",
      "\n",
      "Model : 0.700 \n",
      " Mean is 0.82 and Standard deviation is 0.03 \n",
      "\n",
      "\n",
      "Model : 0.800 \n",
      " Mean is 0.83 and Standard deviation is 0.04 \n",
      "\n",
      "\n",
      "Model : 0.900 \n",
      " Mean is 0.82 and Standard deviation is 0.03 \n",
      "\n",
      "\n",
      "Model : 1.000 \n",
      " Mean is 0.82 and Standard deviation is 0.04 \n",
      "\n",
      "\n",
      "Model : 1.100 \n",
      " Mean is 0.81 and Standard deviation is 0.03 \n",
      "\n",
      "\n",
      "Model : 1.200 \n",
      " Mean is 0.82 and Standard deviation is 0.03 \n",
      "\n",
      "\n",
      "Model : 1.300 \n",
      " Mean is 0.81 and Standard deviation is 0.03 \n",
      "\n",
      "\n",
      "Model : 1.400 \n",
      " Mean is 0.82 and Standard deviation is 0.04 \n",
      "\n",
      "\n",
      "Model : 1.500 \n",
      " Mean is 0.80 and Standard deviation is 0.04 \n",
      "\n",
      "\n",
      "Model : 1.600 \n",
      " Mean is 0.80 and Standard deviation is 0.04 \n",
      "\n",
      "\n",
      "Model : 1.700 \n",
      " Mean is 0.79 and Standard deviation is 0.05 \n",
      "\n",
      "\n",
      "Model : 1.800 \n",
      " Mean is 0.76 and Standard deviation is 0.04 \n",
      "\n",
      "\n",
      "Model : 1.900 \n",
      " Mean is 0.73 and Standard deviation is 0.04 \n",
      "\n",
      "\n",
      "Model : 2.000 \n",
      " Mean is 0.32 and Standard deviation is 0.05 \n",
      "\n",
      "\n"
     ]
    },
    {
     "data": {
      "image/png": "[encoded data removed]",
      "text/plain": [
       "<Figure size 640x480 with 1 Axes>"
      ]
     },
     "metadata": {},
     "output_type": "display_data"
    }
   ],
   "source": [
    "from numpy import arange\n",
    "from matplotlib import pyplot\n",
    "\n",
    "\n",
    "def get_daatset():\n",
    "    X, y = make_classification(n_samples=1000 , n_informative=15 , n_redundant=5 , random_state=42 , n_features=20)\n",
    "    return X , y\n",
    "\n",
    "def get_model():\n",
    "    models = {}\n",
    "\n",
    "    for i in arange(0.1 , 2.1 , 0.1):\n",
    "        key = \"%.3f\"%i\n",
    "        models[key] = AdaBoostClassifier(learning_rate=i)\n",
    "    return models\n",
    "\n",
    "def evaluate_model(model , X , y):\n",
    "    cv = RepeatedStratifiedKFold(n_splits= 10 , n_repeats=3)\n",
    "\n",
    "    n_scores = cross_val_score(model , X , y , scoring = \"accuracy\" , cv = cv , n_jobs= -1 , error_score=\"raise\")\n",
    "\n",
    "    return n_scores\n",
    "\n",
    "X , y =  get_daatset()\n",
    "\n",
    "models = get_model()\n",
    "\n",
    "results , names = [] ,[]\n",
    "\n",
    "for name, model in models.items():\n",
    "    scores = evaluate_model(model , X ,y)\n",
    "\n",
    "    results.append(scores)\n",
    "\n",
    "    names.append(name)\n",
    "\n",
    "    print(f\"Model : {name} \\n Mean is {mean(scores):.2f} and Standard deviation is {std(scores):.2f} \\n\\n\")\n",
    "\n",
    "pyplot.boxplot(results , labels = names , showmeans=True)\n",
    "pyplot.xticks(rotation = 45)\n",
    "pyplot.show()\n",
    "\n"
   ]
  },
  {
   "cell_type": "code",
   "execution_count": 81,
   "metadata": {},
   "outputs": [
    {
     "name": "stdout",
     "output_type": "stream",
     "text": [
      "Best Score is 0.8413333333333334 using {'learning_rate': 0.1, 'n_estimators': 500}\n",
      "Means is 0.6866666666666669  , Standard Deviation is 0.047069688288276935  using {'learning_rate': 0.0001, 'n_estimators': 50} \n",
      "\n",
      "Means is 0.6866666666666669  , Standard Deviation is 0.047069688288276935  using {'learning_rate': 0.0001, 'n_estimators': 100} \n",
      "\n",
      "Means is 0.6866666666666669  , Standard Deviation is 0.047069688288276935  using {'learning_rate': 0.0001, 'n_estimators': 150} \n",
      "\n",
      "Means is 0.6866666666666669  , Standard Deviation is 0.047069688288276935  using {'learning_rate': 0.0001, 'n_estimators': 500} \n",
      "\n",
      "Means is 0.6866666666666669  , Standard Deviation is 0.047069688288276935  using {'learning_rate': 0.001, 'n_estimators': 50} \n",
      "\n",
      "Means is 0.6876666666666669  , Standard Deviation is 0.047866713091899486  using {'learning_rate': 0.001, 'n_estimators': 100} \n",
      "\n",
      "Means is 0.6876666666666669  , Standard Deviation is 0.047866713091899486  using {'learning_rate': 0.001, 'n_estimators': 150} \n",
      "\n",
      "Means is 0.6876666666666669  , Standard Deviation is 0.047023634719385754  using {'learning_rate': 0.001, 'n_estimators': 500} \n",
      "\n",
      "Means is 0.6876666666666669  , Standard Deviation is 0.047023634719385754  using {'learning_rate': 0.01, 'n_estimators': 50} \n",
      "\n",
      "Means is 0.6996666666666667  , Standard Deviation is 0.04847565253700964  using {'learning_rate': 0.01, 'n_estimators': 100} \n",
      "\n",
      "Means is 0.7059999999999998  , Standard Deviation is 0.04393935214209088  using {'learning_rate': 0.01, 'n_estimators': 150} \n",
      "\n",
      "Means is 0.772  , Standard Deviation is 0.049759421218498925  using {'learning_rate': 0.01, 'n_estimators': 500} \n",
      "\n",
      "Means is 0.769  , Standard Deviation is 0.05015642198828249  using {'learning_rate': 0.1, 'n_estimators': 50} \n",
      "\n",
      "Means is 0.7996666666666666  , Standard Deviation is 0.046006038251033485  using {'learning_rate': 0.1, 'n_estimators': 100} \n",
      "\n",
      "Means is 0.8169999999999998  , Standard Deviation is 0.04360045871318328  using {'learning_rate': 0.1, 'n_estimators': 150} \n",
      "\n",
      "Means is 0.8413333333333334  , Standard Deviation is 0.03694440267332642  using {'learning_rate': 0.1, 'n_estimators': 500} \n",
      "\n",
      "Means is 0.8243333333333335  , Standard Deviation is 0.03765486540792423  using {'learning_rate': 1.0, 'n_estimators': 50} \n",
      "\n",
      "Means is 0.83  , Standard Deviation is 0.041231056256176596  using {'learning_rate': 1.0, 'n_estimators': 100} \n",
      "\n",
      "Means is 0.8269999999999998  , Standard Deviation is 0.03882868355567397  using {'learning_rate': 1.0, 'n_estimators': 150} \n",
      "\n",
      "Means is 0.8193333333333331  , Standard Deviation is 0.03511251755270317  using {'learning_rate': 1.0, 'n_estimators': 500} \n",
      "\n"
     ]
    }
   ],
   "source": [
    "from sklearn.model_selection import GridSearchCV\n",
    "\n",
    "grid = dict()\n",
    "\n",
    "X, y = make_classification(n_samples=1000 , n_informative=15 , n_redundant=5 , random_state=42 , n_features=20)\n",
    "\n",
    "grid[\"n_estimators\"] = [50 , 100 , 150 , 500]\n",
    "\n",
    "grid[\"learning_rate\"] = [0.0001 , 0.001 , 0.01 , 0.1 ,1.0]\n",
    "\n",
    "cv = RepeatedStratifiedKFold(n_splits= 10 , n_repeats=3)\n",
    "\n",
    "grid_search = GridSearchCV(estimator=model , param_grid=grid , n_jobs = -1 , cv =cv , scoring = \"accuracy\")\n",
    "\n",
    "grid_result = grid_search.fit(X , y)\n",
    "\n",
    "print(f\"Best Score is {grid_result.best_score_} using {grid_result.best_params_}\")\n",
    "\n",
    "means = grid_result.cv_results_[\"mean_test_score\"]\n",
    "stds = grid_result.cv_results_[\"std_test_score\"]\n",
    "params = grid_result.cv_results_[\"params\"]\n",
    "\n",
    "for mean , std , param in zip(means, stds ,params):\n",
    "    print(f\"Means is {mean}  , Standard Deviation is {std}  using {param} \\n\")"
   ]
  },
  {
   "cell_type": "code",
   "execution_count": null,
   "metadata": {},
   "outputs": [],
   "source": []
  }
 ],
 "metadata": {
  "kernelspec": {
   "display_name": "Python 3 (ipykernel)",
   "language": "python",
   "name": "python3"
  },
  "language_info": {
   "codemirror_mode": {
    "name": "ipython",
    "version": 3
   },
   "file_extension": ".py",
   "mimetype": "text/x-python",
   "name": "python",
   "nbconvert_exporter": "python",
   "pygments_lexer": "ipython3",
   "version": "3.11.5"
  }
 },
 "nbformat": 4,
 "nbformat_minor": 2
}
