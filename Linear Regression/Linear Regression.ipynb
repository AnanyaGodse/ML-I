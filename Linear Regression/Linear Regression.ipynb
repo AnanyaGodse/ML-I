{
 "cells": [
  {
   "cell_type": "markdown",
   "id": "d912442a",
   "metadata": {},
   "source": [
    "#### Importing libraries"
   ]
  },
  {
   "cell_type": "code",
   "execution_count": 1,
   "id": "2646b965",
   "metadata": {},
   "outputs": [],
   "source": [
    "import numpy as np\n",
    "import pandas as pd\n",
    "import matplotlib.pyplot as plt\n",
    "import seaborn as sns\n",
    "from sklearn.model_selection import train_test_split\n",
    "from sklearn.linear_model import LinearRegression\n",
    "from sklearn.metrics import mean_squared_error"
   ]
  },
  {
   "cell_type": "markdown",
   "id": "5e8a8134",
   "metadata": {},
   "source": [
    "#### Loading and analyzing the dataset"
   ]
  },
  {
   "cell_type": "code",
   "execution_count": 2,
   "id": "e6ced3cc",
   "metadata": {},
   "outputs": [
    {
     "data": {
      "text/html": [
       "<div>\n",
       "<style scoped>\n",
       "    .dataframe tbody tr th:only-of-type {\n",
       "        vertical-align: middle;\n",
       "    }\n",
       "\n",
       "    .dataframe tbody tr th {\n",
       "        vertical-align: top;\n",
       "    }\n",
       "\n",
       "    .dataframe thead th {\n",
       "        text-align: right;\n",
       "    }\n",
       "</style>\n",
       "<table border=\"1\" class=\"dataframe\">\n",
       "  <thead>\n",
       "    <tr style=\"text-align: right;\">\n",
       "      <th></th>\n",
       "      <th>Population</th>\n",
       "      <th>Profit</th>\n",
       "    </tr>\n",
       "  </thead>\n",
       "  <tbody>\n",
       "    <tr>\n",
       "      <th>0</th>\n",
       "      <td>6.1101</td>\n",
       "      <td>17.59200</td>\n",
       "    </tr>\n",
       "    <tr>\n",
       "      <th>1</th>\n",
       "      <td>5.5277</td>\n",
       "      <td>9.13020</td>\n",
       "    </tr>\n",
       "    <tr>\n",
       "      <th>2</th>\n",
       "      <td>8.5186</td>\n",
       "      <td>13.66200</td>\n",
       "    </tr>\n",
       "    <tr>\n",
       "      <th>3</th>\n",
       "      <td>7.0032</td>\n",
       "      <td>11.85400</td>\n",
       "    </tr>\n",
       "    <tr>\n",
       "      <th>4</th>\n",
       "      <td>5.8598</td>\n",
       "      <td>6.82330</td>\n",
       "    </tr>\n",
       "    <tr>\n",
       "      <th>...</th>\n",
       "      <td>...</td>\n",
       "      <td>...</td>\n",
       "    </tr>\n",
       "    <tr>\n",
       "      <th>92</th>\n",
       "      <td>5.8707</td>\n",
       "      <td>7.20290</td>\n",
       "    </tr>\n",
       "    <tr>\n",
       "      <th>93</th>\n",
       "      <td>5.3054</td>\n",
       "      <td>1.98690</td>\n",
       "    </tr>\n",
       "    <tr>\n",
       "      <th>94</th>\n",
       "      <td>8.2934</td>\n",
       "      <td>0.14454</td>\n",
       "    </tr>\n",
       "    <tr>\n",
       "      <th>95</th>\n",
       "      <td>13.3940</td>\n",
       "      <td>9.05510</td>\n",
       "    </tr>\n",
       "    <tr>\n",
       "      <th>96</th>\n",
       "      <td>5.4369</td>\n",
       "      <td>0.61705</td>\n",
       "    </tr>\n",
       "  </tbody>\n",
       "</table>\n",
       "<p>97 rows × 2 columns</p>\n",
       "</div>"
      ],
      "text/plain": [
       "    Population    Profit\n",
       "0       6.1101  17.59200\n",
       "1       5.5277   9.13020\n",
       "2       8.5186  13.66200\n",
       "3       7.0032  11.85400\n",
       "4       5.8598   6.82330\n",
       "..         ...       ...\n",
       "92      5.8707   7.20290\n",
       "93      5.3054   1.98690\n",
       "94      8.2934   0.14454\n",
       "95     13.3940   9.05510\n",
       "96      5.4369   0.61705\n",
       "\n",
       "[97 rows x 2 columns]"
      ]
     },
     "execution_count": 2,
     "metadata": {},
     "output_type": "execute_result"
    }
   ],
   "source": [
    "data = pd.read_csv(r\"C:\\Users\\Ananya\\Desktop\\SEM 4 ML\\Experiment 1\\Q2\\food_truck_data (1).txt\")\n",
    "data"
   ]
  },
  {
   "cell_type": "code",
   "execution_count": 3,
   "id": "bba0a25a",
   "metadata": {},
   "outputs": [
    {
     "data": {
      "text/html": [
       "<div>\n",
       "<style scoped>\n",
       "    .dataframe tbody tr th:only-of-type {\n",
       "        vertical-align: middle;\n",
       "    }\n",
       "\n",
       "    .dataframe tbody tr th {\n",
       "        vertical-align: top;\n",
       "    }\n",
       "\n",
       "    .dataframe thead th {\n",
       "        text-align: right;\n",
       "    }\n",
       "</style>\n",
       "<table border=\"1\" class=\"dataframe\">\n",
       "  <thead>\n",
       "    <tr style=\"text-align: right;\">\n",
       "      <th></th>\n",
       "      <th>Population</th>\n",
       "      <th>Profit</th>\n",
       "    </tr>\n",
       "  </thead>\n",
       "  <tbody>\n",
       "    <tr>\n",
       "      <th>0</th>\n",
       "      <td>6.1101</td>\n",
       "      <td>17.5920</td>\n",
       "    </tr>\n",
       "    <tr>\n",
       "      <th>1</th>\n",
       "      <td>5.5277</td>\n",
       "      <td>9.1302</td>\n",
       "    </tr>\n",
       "    <tr>\n",
       "      <th>2</th>\n",
       "      <td>8.5186</td>\n",
       "      <td>13.6620</td>\n",
       "    </tr>\n",
       "    <tr>\n",
       "      <th>3</th>\n",
       "      <td>7.0032</td>\n",
       "      <td>11.8540</td>\n",
       "    </tr>\n",
       "    <tr>\n",
       "      <th>4</th>\n",
       "      <td>5.8598</td>\n",
       "      <td>6.8233</td>\n",
       "    </tr>\n",
       "  </tbody>\n",
       "</table>\n",
       "</div>"
      ],
      "text/plain": [
       "   Population   Profit\n",
       "0      6.1101  17.5920\n",
       "1      5.5277   9.1302\n",
       "2      8.5186  13.6620\n",
       "3      7.0032  11.8540\n",
       "4      5.8598   6.8233"
      ]
     },
     "execution_count": 3,
     "metadata": {},
     "output_type": "execute_result"
    }
   ],
   "source": [
    "data.head()"
   ]
  },
  {
   "cell_type": "code",
   "execution_count": 4,
   "id": "38a12df9",
   "metadata": {
    "scrolled": true
   },
   "outputs": [
    {
     "name": "stdout",
     "output_type": "stream",
     "text": [
      "<class 'pandas.core.frame.DataFrame'>\n",
      "RangeIndex: 97 entries, 0 to 96\n",
      "Data columns (total 2 columns):\n",
      " #   Column      Non-Null Count  Dtype  \n",
      "---  ------      --------------  -----  \n",
      " 0   Population  97 non-null     float64\n",
      " 1   Profit      97 non-null     float64\n",
      "dtypes: float64(2)\n",
      "memory usage: 1.6 KB\n"
     ]
    }
   ],
   "source": [
    "data.info()"
   ]
  },
  {
   "cell_type": "code",
   "execution_count": 5,
   "id": "c73b15ac",
   "metadata": {},
   "outputs": [
    {
     "data": {
      "text/html": [
       "<div>\n",
       "<style scoped>\n",
       "    .dataframe tbody tr th:only-of-type {\n",
       "        vertical-align: middle;\n",
       "    }\n",
       "\n",
       "    .dataframe tbody tr th {\n",
       "        vertical-align: top;\n",
       "    }\n",
       "\n",
       "    .dataframe thead th {\n",
       "        text-align: right;\n",
       "    }\n",
       "</style>\n",
       "<table border=\"1\" class=\"dataframe\">\n",
       "  <thead>\n",
       "    <tr style=\"text-align: right;\">\n",
       "      <th></th>\n",
       "      <th>Population</th>\n",
       "      <th>Profit</th>\n",
       "    </tr>\n",
       "  </thead>\n",
       "  <tbody>\n",
       "    <tr>\n",
       "      <th>count</th>\n",
       "      <td>97.000000</td>\n",
       "      <td>97.000000</td>\n",
       "    </tr>\n",
       "    <tr>\n",
       "      <th>mean</th>\n",
       "      <td>8.159800</td>\n",
       "      <td>5.839135</td>\n",
       "    </tr>\n",
       "    <tr>\n",
       "      <th>std</th>\n",
       "      <td>3.869884</td>\n",
       "      <td>5.510262</td>\n",
       "    </tr>\n",
       "    <tr>\n",
       "      <th>min</th>\n",
       "      <td>5.026900</td>\n",
       "      <td>-2.680700</td>\n",
       "    </tr>\n",
       "    <tr>\n",
       "      <th>25%</th>\n",
       "      <td>5.707700</td>\n",
       "      <td>1.986900</td>\n",
       "    </tr>\n",
       "    <tr>\n",
       "      <th>50%</th>\n",
       "      <td>6.589400</td>\n",
       "      <td>4.562300</td>\n",
       "    </tr>\n",
       "    <tr>\n",
       "      <th>75%</th>\n",
       "      <td>8.578100</td>\n",
       "      <td>7.046700</td>\n",
       "    </tr>\n",
       "    <tr>\n",
       "      <th>max</th>\n",
       "      <td>22.203000</td>\n",
       "      <td>24.147000</td>\n",
       "    </tr>\n",
       "  </tbody>\n",
       "</table>\n",
       "</div>"
      ],
      "text/plain": [
       "       Population     Profit\n",
       "count   97.000000  97.000000\n",
       "mean     8.159800   5.839135\n",
       "std      3.869884   5.510262\n",
       "min      5.026900  -2.680700\n",
       "25%      5.707700   1.986900\n",
       "50%      6.589400   4.562300\n",
       "75%      8.578100   7.046700\n",
       "max     22.203000  24.147000"
      ]
     },
     "execution_count": 5,
     "metadata": {},
     "output_type": "execute_result"
    }
   ],
   "source": [
    "data.describe()"
   ]
  },
  {
   "cell_type": "code",
   "execution_count": 6,
   "id": "7fe7732c",
   "metadata": {},
   "outputs": [
    {
     "data": {
      "text/plain": [
       "Population    0\n",
       "Profit        0\n",
       "dtype: int64"
      ]
     },
     "execution_count": 6,
     "metadata": {},
     "output_type": "execute_result"
    }
   ],
   "source": [
    "data.isnull().sum()"
   ]
  },
  {
   "cell_type": "markdown",
   "id": "b9c54d70",
   "metadata": {},
   "source": [
    "#### Scatterplot of Population vs. Profit"
   ]
  },
  {
   "cell_type": "code",
   "execution_count": 7,
   "id": "f9310576",
   "metadata": {
    "scrolled": false
   },
   "outputs": [
    {
     "data": {
      "image/png": "[encoded data removed]",
      "text/plain": [
       "<Figure size 640x480 with 1 Axes>"
      ]
     },
     "metadata": {},
     "output_type": "display_data"
    }
   ],
   "source": [
    "sns.scatterplot(data=data, x=\"Population\", y=\"Profit\").set(title=\"Population vs. Profit\")\n",
    "plt.show()"
   ]
  },
  {
   "cell_type": "markdown",
   "id": "911c14aa",
   "metadata": {},
   "source": [
    "#### Appending 1's to the end of the dataset."
   ]
  },
  {
   "cell_type": "markdown",
   "id": "71d6697a",
   "metadata": {},
   "source": [
    "This is done to make it compatible for matrix multiplication as \n",
    "    h(x) = w0 + w1x\n",
    "and we need to multiply 1 by w0 to maintain that while we multiply the population feature by w1."
   ]
  },
  {
   "cell_type": "code",
   "execution_count": 8,
   "id": "8f26e871",
   "metadata": {},
   "outputs": [
    {
     "data": {
      "text/html": [
       "<div>\n",
       "<style scoped>\n",
       "    .dataframe tbody tr th:only-of-type {\n",
       "        vertical-align: middle;\n",
       "    }\n",
       "\n",
       "    .dataframe tbody tr th {\n",
       "        vertical-align: top;\n",
       "    }\n",
       "\n",
       "    .dataframe thead th {\n",
       "        text-align: right;\n",
       "    }\n",
       "</style>\n",
       "<table border=\"1\" class=\"dataframe\">\n",
       "  <thead>\n",
       "    <tr style=\"text-align: right;\">\n",
       "      <th></th>\n",
       "      <th>ones</th>\n",
       "      <th>Population</th>\n",
       "      <th>Profit</th>\n",
       "    </tr>\n",
       "  </thead>\n",
       "  <tbody>\n",
       "    <tr>\n",
       "      <th>0</th>\n",
       "      <td>1</td>\n",
       "      <td>6.1101</td>\n",
       "      <td>17.59200</td>\n",
       "    </tr>\n",
       "    <tr>\n",
       "      <th>1</th>\n",
       "      <td>1</td>\n",
       "      <td>5.5277</td>\n",
       "      <td>9.13020</td>\n",
       "    </tr>\n",
       "    <tr>\n",
       "      <th>2</th>\n",
       "      <td>1</td>\n",
       "      <td>8.5186</td>\n",
       "      <td>13.66200</td>\n",
       "    </tr>\n",
       "    <tr>\n",
       "      <th>3</th>\n",
       "      <td>1</td>\n",
       "      <td>7.0032</td>\n",
       "      <td>11.85400</td>\n",
       "    </tr>\n",
       "    <tr>\n",
       "      <th>4</th>\n",
       "      <td>1</td>\n",
       "      <td>5.8598</td>\n",
       "      <td>6.82330</td>\n",
       "    </tr>\n",
       "    <tr>\n",
       "      <th>...</th>\n",
       "      <td>...</td>\n",
       "      <td>...</td>\n",
       "      <td>...</td>\n",
       "    </tr>\n",
       "    <tr>\n",
       "      <th>92</th>\n",
       "      <td>1</td>\n",
       "      <td>5.8707</td>\n",
       "      <td>7.20290</td>\n",
       "    </tr>\n",
       "    <tr>\n",
       "      <th>93</th>\n",
       "      <td>1</td>\n",
       "      <td>5.3054</td>\n",
       "      <td>1.98690</td>\n",
       "    </tr>\n",
       "    <tr>\n",
       "      <th>94</th>\n",
       "      <td>1</td>\n",
       "      <td>8.2934</td>\n",
       "      <td>0.14454</td>\n",
       "    </tr>\n",
       "    <tr>\n",
       "      <th>95</th>\n",
       "      <td>1</td>\n",
       "      <td>13.3940</td>\n",
       "      <td>9.05510</td>\n",
       "    </tr>\n",
       "    <tr>\n",
       "      <th>96</th>\n",
       "      <td>1</td>\n",
       "      <td>5.4369</td>\n",
       "      <td>0.61705</td>\n",
       "    </tr>\n",
       "  </tbody>\n",
       "</table>\n",
       "<p>97 rows × 3 columns</p>\n",
       "</div>"
      ],
      "text/plain": [
       "    ones  Population    Profit\n",
       "0      1      6.1101  17.59200\n",
       "1      1      5.5277   9.13020\n",
       "2      1      8.5186  13.66200\n",
       "3      1      7.0032  11.85400\n",
       "4      1      5.8598   6.82330\n",
       "..   ...         ...       ...\n",
       "92     1      5.8707   7.20290\n",
       "93     1      5.3054   1.98690\n",
       "94     1      8.2934   0.14454\n",
       "95     1     13.3940   9.05510\n",
       "96     1      5.4369   0.61705\n",
       "\n",
       "[97 rows x 3 columns]"
      ]
     },
     "execution_count": 8,
     "metadata": {},
     "output_type": "execute_result"
    }
   ],
   "source": [
    "data.insert(0, \"ones\", 1)\n",
    "data"
   ]
  },
  {
   "cell_type": "markdown",
   "id": "73f6fcab",
   "metadata": {},
   "source": [
    "#### Setting the feature (X) and the target variable (y)"
   ]
  },
  {
   "cell_type": "code",
   "execution_count": 9,
   "id": "c7dd0d4a",
   "metadata": {},
   "outputs": [
    {
     "data": {
      "text/html": [
       "<div>\n",
       "<style scoped>\n",
       "    .dataframe tbody tr th:only-of-type {\n",
       "        vertical-align: middle;\n",
       "    }\n",
       "\n",
       "    .dataframe tbody tr th {\n",
       "        vertical-align: top;\n",
       "    }\n",
       "\n",
       "    .dataframe thead th {\n",
       "        text-align: right;\n",
       "    }\n",
       "</style>\n",
       "<table border=\"1\" class=\"dataframe\">\n",
       "  <thead>\n",
       "    <tr style=\"text-align: right;\">\n",
       "      <th></th>\n",
       "      <th>ones</th>\n",
       "      <th>Population</th>\n",
       "    </tr>\n",
       "  </thead>\n",
       "  <tbody>\n",
       "    <tr>\n",
       "      <th>0</th>\n",
       "      <td>1</td>\n",
       "      <td>6.1101</td>\n",
       "    </tr>\n",
       "    <tr>\n",
       "      <th>1</th>\n",
       "      <td>1</td>\n",
       "      <td>5.5277</td>\n",
       "    </tr>\n",
       "    <tr>\n",
       "      <th>2</th>\n",
       "      <td>1</td>\n",
       "      <td>8.5186</td>\n",
       "    </tr>\n",
       "    <tr>\n",
       "      <th>3</th>\n",
       "      <td>1</td>\n",
       "      <td>7.0032</td>\n",
       "    </tr>\n",
       "    <tr>\n",
       "      <th>4</th>\n",
       "      <td>1</td>\n",
       "      <td>5.8598</td>\n",
       "    </tr>\n",
       "    <tr>\n",
       "      <th>...</th>\n",
       "      <td>...</td>\n",
       "      <td>...</td>\n",
       "    </tr>\n",
       "    <tr>\n",
       "      <th>92</th>\n",
       "      <td>1</td>\n",
       "      <td>5.8707</td>\n",
       "    </tr>\n",
       "    <tr>\n",
       "      <th>93</th>\n",
       "      <td>1</td>\n",
       "      <td>5.3054</td>\n",
       "    </tr>\n",
       "    <tr>\n",
       "      <th>94</th>\n",
       "      <td>1</td>\n",
       "      <td>8.2934</td>\n",
       "    </tr>\n",
       "    <tr>\n",
       "      <th>95</th>\n",
       "      <td>1</td>\n",
       "      <td>13.3940</td>\n",
       "    </tr>\n",
       "    <tr>\n",
       "      <th>96</th>\n",
       "      <td>1</td>\n",
       "      <td>5.4369</td>\n",
       "    </tr>\n",
       "  </tbody>\n",
       "</table>\n",
       "<p>97 rows × 2 columns</p>\n",
       "</div>"
      ],
      "text/plain": [
       "    ones  Population\n",
       "0      1      6.1101\n",
       "1      1      5.5277\n",
       "2      1      8.5186\n",
       "3      1      7.0032\n",
       "4      1      5.8598\n",
       "..   ...         ...\n",
       "92     1      5.8707\n",
       "93     1      5.3054\n",
       "94     1      8.2934\n",
       "95     1     13.3940\n",
       "96     1      5.4369\n",
       "\n",
       "[97 rows x 2 columns]"
      ]
     },
     "execution_count": 9,
     "metadata": {},
     "output_type": "execute_result"
    }
   ],
   "source": [
    "X = data[[data.columns[0], data.columns[1]]]\n",
    "X\n"
   ]
  },
  {
   "cell_type": "code",
   "execution_count": 10,
   "id": "e5e1d874",
   "metadata": {},
   "outputs": [
    {
     "data": {
      "text/plain": [
       "0     17.59200\n",
       "1      9.13020\n",
       "2     13.66200\n",
       "3     11.85400\n",
       "4      6.82330\n",
       "        ...   \n",
       "92     7.20290\n",
       "93     1.98690\n",
       "94     0.14454\n",
       "95     9.05510\n",
       "96     0.61705\n",
       "Name: Profit, Length: 97, dtype: float64"
      ]
     },
     "execution_count": 10,
     "metadata": {},
     "output_type": "execute_result"
    }
   ],
   "source": [
    "y = data[\"Profit\"]\n",
    "y"
   ]
  },
  {
   "cell_type": "code",
   "execution_count": 11,
   "id": "eb01bf9c",
   "metadata": {
    "scrolled": true
   },
   "outputs": [
    {
     "data": {
      "text/plain": [
       "matrix([[ 1.    ,  6.1101],\n",
       "        [ 1.    ,  5.5277],\n",
       "        [ 1.    ,  8.5186],\n",
       "        [ 1.    ,  7.0032],\n",
       "        [ 1.    ,  5.8598],\n",
       "        [ 1.    ,  8.3829],\n",
       "        [ 1.    ,  7.4764],\n",
       "        [ 1.    ,  8.5781],\n",
       "        [ 1.    ,  6.4862],\n",
       "        [ 1.    ,  5.0546],\n",
       "        [ 1.    ,  5.7107],\n",
       "        [ 1.    , 14.164 ],\n",
       "        [ 1.    ,  5.734 ],\n",
       "        [ 1.    ,  8.4084],\n",
       "        [ 1.    ,  5.6407],\n",
       "        [ 1.    ,  5.3794],\n",
       "        [ 1.    ,  6.3654],\n",
       "        [ 1.    ,  5.1301],\n",
       "        [ 1.    ,  6.4296],\n",
       "        [ 1.    ,  7.0708],\n",
       "        [ 1.    ,  6.1891],\n",
       "        [ 1.    , 20.27  ],\n",
       "        [ 1.    ,  5.4901],\n",
       "        [ 1.    ,  6.3261],\n",
       "        [ 1.    ,  5.5649],\n",
       "        [ 1.    , 18.945 ],\n",
       "        [ 1.    , 12.828 ],\n",
       "        [ 1.    , 10.957 ],\n",
       "        [ 1.    , 13.176 ],\n",
       "        [ 1.    , 22.203 ],\n",
       "        [ 1.    ,  5.2524],\n",
       "        [ 1.    ,  6.5894],\n",
       "        [ 1.    ,  9.2482],\n",
       "        [ 1.    ,  5.8918],\n",
       "        [ 1.    ,  8.2111],\n",
       "        [ 1.    ,  7.9334],\n",
       "        [ 1.    ,  8.0959],\n",
       "        [ 1.    ,  5.6063],\n",
       "        [ 1.    , 12.836 ],\n",
       "        [ 1.    ,  6.3534],\n",
       "        [ 1.    ,  5.4069],\n",
       "        [ 1.    ,  6.8825],\n",
       "        [ 1.    , 11.708 ],\n",
       "        [ 1.    ,  5.7737],\n",
       "        [ 1.    ,  7.8247],\n",
       "        [ 1.    ,  7.0931],\n",
       "        [ 1.    ,  5.0702],\n",
       "        [ 1.    ,  5.8014],\n",
       "        [ 1.    , 11.7   ],\n",
       "        [ 1.    ,  5.5416],\n",
       "        [ 1.    ,  7.5402],\n",
       "        [ 1.    ,  5.3077],\n",
       "        [ 1.    ,  7.4239],\n",
       "        [ 1.    ,  7.6031],\n",
       "        [ 1.    ,  6.3328],\n",
       "        [ 1.    ,  6.3589],\n",
       "        [ 1.    ,  6.2742],\n",
       "        [ 1.    ,  5.6397],\n",
       "        [ 1.    ,  9.3102],\n",
       "        [ 1.    ,  9.4536],\n",
       "        [ 1.    ,  8.8254],\n",
       "        [ 1.    ,  5.1793],\n",
       "        [ 1.    , 21.279 ],\n",
       "        [ 1.    , 14.908 ],\n",
       "        [ 1.    , 18.959 ],\n",
       "        [ 1.    ,  7.2182],\n",
       "        [ 1.    ,  8.2951],\n",
       "        [ 1.    , 10.236 ],\n",
       "        [ 1.    ,  5.4994],\n",
       "        [ 1.    , 20.341 ],\n",
       "        [ 1.    , 10.136 ],\n",
       "        [ 1.    ,  7.3345],\n",
       "        [ 1.    ,  6.0062],\n",
       "        [ 1.    ,  7.2259],\n",
       "        [ 1.    ,  5.0269],\n",
       "        [ 1.    ,  6.5479],\n",
       "        [ 1.    ,  7.5386],\n",
       "        [ 1.    ,  5.0365],\n",
       "        [ 1.    , 10.274 ],\n",
       "        [ 1.    ,  5.1077],\n",
       "        [ 1.    ,  5.7292],\n",
       "        [ 1.    ,  5.1884],\n",
       "        [ 1.    ,  6.3557],\n",
       "        [ 1.    ,  9.7687],\n",
       "        [ 1.    ,  6.5159],\n",
       "        [ 1.    ,  8.5172],\n",
       "        [ 1.    ,  9.1802],\n",
       "        [ 1.    ,  6.002 ],\n",
       "        [ 1.    ,  5.5204],\n",
       "        [ 1.    ,  5.0594],\n",
       "        [ 1.    ,  5.7077],\n",
       "        [ 1.    ,  7.6366],\n",
       "        [ 1.    ,  5.8707],\n",
       "        [ 1.    ,  5.3054],\n",
       "        [ 1.    ,  8.2934],\n",
       "        [ 1.    , 13.394 ],\n",
       "        [ 1.    ,  5.4369]])"
      ]
     },
     "execution_count": 11,
     "metadata": {},
     "output_type": "execute_result"
    }
   ],
   "source": [
    "X = np.matrix(X)\n",
    "X"
   ]
  },
  {
   "cell_type": "code",
   "execution_count": 12,
   "id": "12abbcf7",
   "metadata": {},
   "outputs": [
    {
     "data": {
      "text/plain": [
       "matrix([[17.592  ],\n",
       "        [ 9.1302 ],\n",
       "        [13.662  ],\n",
       "        [11.854  ],\n",
       "        [ 6.8233 ],\n",
       "        [11.886  ],\n",
       "        [ 4.3483 ],\n",
       "        [12.     ],\n",
       "        [ 6.5987 ],\n",
       "        [ 3.8166 ],\n",
       "        [ 3.2522 ],\n",
       "        [15.505  ],\n",
       "        [ 3.1551 ],\n",
       "        [ 7.2258 ],\n",
       "        [ 0.71618],\n",
       "        [ 3.5129 ],\n",
       "        [ 5.3048 ],\n",
       "        [ 0.56077],\n",
       "        [ 3.6518 ],\n",
       "        [ 5.3893 ],\n",
       "        [ 3.1386 ],\n",
       "        [21.767  ],\n",
       "        [ 4.263  ],\n",
       "        [ 5.1875 ],\n",
       "        [ 3.0825 ],\n",
       "        [22.638  ],\n",
       "        [13.501  ],\n",
       "        [ 7.0467 ],\n",
       "        [14.692  ],\n",
       "        [24.147  ],\n",
       "        [-1.22   ],\n",
       "        [ 5.9966 ],\n",
       "        [12.134  ],\n",
       "        [ 1.8495 ],\n",
       "        [ 6.5426 ],\n",
       "        [ 4.5623 ],\n",
       "        [ 4.1164 ],\n",
       "        [ 3.3928 ],\n",
       "        [10.117  ],\n",
       "        [ 5.4974 ],\n",
       "        [ 0.55657],\n",
       "        [ 3.9115 ],\n",
       "        [ 5.3854 ],\n",
       "        [ 2.4406 ],\n",
       "        [ 6.7318 ],\n",
       "        [ 1.0463 ],\n",
       "        [ 5.1337 ],\n",
       "        [ 1.844  ],\n",
       "        [ 8.0043 ],\n",
       "        [ 1.0179 ],\n",
       "        [ 6.7504 ],\n",
       "        [ 1.8396 ],\n",
       "        [ 4.2885 ],\n",
       "        [ 4.9981 ],\n",
       "        [ 1.4233 ],\n",
       "        [-1.4211 ],\n",
       "        [ 2.4756 ],\n",
       "        [ 4.6042 ],\n",
       "        [ 3.9624 ],\n",
       "        [ 5.4141 ],\n",
       "        [ 5.1694 ],\n",
       "        [-0.74279],\n",
       "        [17.929  ],\n",
       "        [12.054  ],\n",
       "        [17.054  ],\n",
       "        [ 4.8852 ],\n",
       "        [ 5.7442 ],\n",
       "        [ 7.7754 ],\n",
       "        [ 1.0173 ],\n",
       "        [20.992  ],\n",
       "        [ 6.6799 ],\n",
       "        [ 4.0259 ],\n",
       "        [ 1.2784 ],\n",
       "        [ 3.3411 ],\n",
       "        [-2.6807 ],\n",
       "        [ 0.29678],\n",
       "        [ 3.8845 ],\n",
       "        [ 5.7014 ],\n",
       "        [ 6.7526 ],\n",
       "        [ 2.0576 ],\n",
       "        [ 0.47953],\n",
       "        [ 0.20421],\n",
       "        [ 0.67861],\n",
       "        [ 7.5435 ],\n",
       "        [ 5.3436 ],\n",
       "        [ 4.2415 ],\n",
       "        [ 6.7981 ],\n",
       "        [ 0.92695],\n",
       "        [ 0.152  ],\n",
       "        [ 2.8214 ],\n",
       "        [ 1.8451 ],\n",
       "        [ 4.2959 ],\n",
       "        [ 7.2029 ],\n",
       "        [ 1.9869 ],\n",
       "        [ 0.14454],\n",
       "        [ 9.0551 ],\n",
       "        [ 0.61705]])"
      ]
     },
     "execution_count": 12,
     "metadata": {},
     "output_type": "execute_result"
    }
   ],
   "source": [
    "y = np.reshape(y, (len(y), 1))\n",
    "y = np.matrix(y)\n",
    "y"
   ]
  },
  {
   "cell_type": "markdown",
   "id": "d81d4d4f",
   "metadata": {},
   "source": [
    "#### Defining the cost function J"
   ]
  },
  {
   "cell_type": "code",
   "execution_count": 13,
   "id": "34a298e0",
   "metadata": {},
   "outputs": [],
   "source": [
    "def cost_function(X, y, theta):\n",
    "    # sum of squared differences between the actual result and our prediction.\n",
    "    inner_product = np.power(((X * theta.T) - y) , 2) \n",
    "    return np.sum(inner_product) / (2 * len(X))"
   ]
  },
  {
   "cell_type": "markdown",
   "id": "188aff0d",
   "metadata": {},
   "source": [
    "#### Defining the function for gradient descent"
   ]
  },
  {
   "cell_type": "code",
   "execution_count": 14,
   "id": "28bbcf10",
   "metadata": {},
   "outputs": [],
   "source": [
    "def gradient_descent(X, y, theta, alpha, iters):\n",
    "    temp = np.matrix(np.zeros(theta.shape))\n",
    "    parameters = int(theta.flatten().shape[1])\n",
    "    cost = np.zeros(iters)\n",
    "    for i in range(iters):\n",
    "        error = (X * theta.T) - y\n",
    "        \n",
    "        for j in range(parameters):\n",
    "            grad_term = np.multiply(error, X[:,j]) # product of the error and the corresponding feature \n",
    "            temp[0,j] = theta[0,j] - ((alpha / len(X)) * np.sum(grad_term)) # update the value of theta\n",
    "            \n",
    "        theta = temp\n",
    "        cost[i] = cost_function(X, y, theta)\n",
    "    \n",
    "    return theta, cost"
   ]
  },
  {
   "cell_type": "code",
   "execution_count": 15,
   "id": "9a5002d1",
   "metadata": {},
   "outputs": [
    {
     "data": {
      "text/plain": [
       "matrix([[0, 0]])"
      ]
     },
     "execution_count": 15,
     "metadata": {},
     "output_type": "execute_result"
    }
   ],
   "source": [
    "theta = np.matrix([[0, 0]])\n",
    "theta"
   ]
  },
  {
   "cell_type": "code",
   "execution_count": 16,
   "id": "052206a1",
   "metadata": {},
   "outputs": [
    {
     "data": {
      "text/plain": [
       "32.072733877455676"
      ]
     },
     "execution_count": 16,
     "metadata": {},
     "output_type": "execute_result"
    }
   ],
   "source": [
    "initial_cost = cost_function(X, y, theta)\n",
    "initial_cost"
   ]
  },
  {
   "cell_type": "code",
   "execution_count": 17,
   "id": "201e07e4",
   "metadata": {},
   "outputs": [],
   "source": [
    "alpha = 0.01\n",
    "iters = 1000"
   ]
  },
  {
   "cell_type": "code",
   "execution_count": 18,
   "id": "90446611",
   "metadata": {},
   "outputs": [
    {
     "name": "stdout",
     "output_type": "stream",
     "text": [
      "h(x) = -3.2414 + 1.1273x\n"
     ]
    }
   ],
   "source": [
    "new_theta, cost = gradient_descent(X, y, theta, alpha, iters)\n",
    "print(f\"h(x) = {new_theta[0, 0]:.4f} + {new_theta[0,1]:.4f}x\")"
   ]
  },
  {
   "cell_type": "code",
   "execution_count": 19,
   "id": "f1c3c96e",
   "metadata": {},
   "outputs": [
    {
     "data": {
      "text/plain": [
       "4.515955503078914"
      ]
     },
     "execution_count": 19,
     "metadata": {},
     "output_type": "execute_result"
    }
   ],
   "source": [
    "minimized_cost = cost_function(X, y, new_theta)\n",
    "minimized_cost"
   ]
  },
  {
   "cell_type": "markdown",
   "id": "273e67f5",
   "metadata": {},
   "source": [
    "#### Visualizing the solution"
   ]
  },
  {
   "cell_type": "code",
   "execution_count": 20,
   "id": "7529e2dc",
   "metadata": {},
   "outputs": [
    {
     "data": {
      "image/png": "[encoded data removed]",
      "text/plain": [
       "<Figure size 640x480 with 1 Axes>"
      ]
     },
     "metadata": {},
     "output_type": "display_data"
    }
   ],
   "source": [
    "x = np.linspace(data.Population.min(), data.Population.max(), 100)\n",
    "J = new_theta[0, 0] + (new_theta[0, 1] * x)\n",
    "\n",
    "plt.plot(x, J, 'r', label='Prediction')\n",
    "plt.scatter(data.Population, data.Profit, label='Training Data')\n",
    "plt.xlabel(\"Population\")\n",
    "plt.ylabel(\"Profit\")\n",
    "plt.title(\"Predicted Profit vs Population\")\n",
    "plt.legend()\n",
    "plt.show()"
   ]
  },
  {
   "cell_type": "code",
   "execution_count": 21,
   "id": "8e6109a5",
   "metadata": {
    "scrolled": true
   },
   "outputs": [
    {
     "data": {
      "image/png": "[encoded data removed]",
      "text/plain": [
       "<Figure size 640x480 with 1 Axes>"
      ]
     },
     "metadata": {},
     "output_type": "display_data"
    }
   ],
   "source": [
    "plt.plot(cost)\n",
    "plt.xlabel(\"Iteration\")\n",
    "plt.ylabel(\"$J(\\Theta)$\")\n",
    "plt.title(\"Values of cost function over iterations of gradient descent\")\n",
    "plt.show()"
   ]
  },
  {
   "cell_type": "markdown",
   "id": "8a96725f",
   "metadata": {},
   "source": [
    "#### Implementing Linear Regression using Scikit-Learn"
   ]
  },
  {
   "cell_type": "code",
   "execution_count": 22,
   "id": "39fd9cb5",
   "metadata": {},
   "outputs": [],
   "source": [
    "X1 = data[['Population']]\n",
    "y1 = data['Profit']"
   ]
  },
  {
   "cell_type": "code",
   "execution_count": 23,
   "id": "3a075b3d",
   "metadata": {},
   "outputs": [],
   "source": [
    "X1_train, X1_test, y1_train, y1_test = train_test_split(X1, y1, test_size = 0.2, random_state=7)"
   ]
  },
  {
   "cell_type": "code",
   "execution_count": 24,
   "id": "146a4b0f",
   "metadata": {},
   "outputs": [
    {
     "data": {
      "text/html": [
       "<style>#sk-container-id-1 {color: black;}#sk-container-id-1 pre{padding: 0;}#sk-container-id-1 div.sk-toggleable {background-color: white;}#sk-container-id-1 label.sk-toggleable__label {cursor: pointer;display: block;width: 100%;margin-bottom: 0;padding: 0.3em;box-sizing: border-box;text-align: center;}#sk-container-id-1 label.sk-toggleable__label-arrow:before {content: \"▸\";float: left;margin-right: 0.25em;color: #696969;}#sk-container-id-1 label.sk-toggleable__label-arrow:hover:before {color: black;}#sk-container-id-1 div.sk-estimator:hover label.sk-toggleable__label-arrow:before {color: black;}#sk-container-id-1 div.sk-toggleable__content {max-height: 0;max-width: 0;overflow: hidden;text-align: left;background-color: #f0f8ff;}#sk-container-id-1 div.sk-toggleable__content pre {margin: 0.2em;color: black;border-radius: 0.25em;background-color: #f0f8ff;}#sk-container-id-1 input.sk-toggleable__control:checked~div.sk-toggleable__content {max-height: 200px;max-width: 100%;overflow: auto;}#sk-container-id-1 input.sk-toggleable__control:checked~label.sk-toggleable__label-arrow:before {content: \"▾\";}#sk-container-id-1 div.sk-estimator input.sk-toggleable__control:checked~label.sk-toggleable__label {background-color: #d4ebff;}#sk-container-id-1 div.sk-label input.sk-toggleable__control:checked~label.sk-toggleable__label {background-color: #d4ebff;}#sk-container-id-1 input.sk-hidden--visually {border: 0;clip: rect(1px 1px 1px 1px);clip: rect(1px, 1px, 1px, 1px);height: 1px;margin: -1px;overflow: hidden;padding: 0;position: absolute;width: 1px;}#sk-container-id-1 div.sk-estimator {font-family: monospace;background-color: #f0f8ff;border: 1px dotted black;border-radius: 0.25em;box-sizing: border-box;margin-bottom: 0.5em;}#sk-container-id-1 div.sk-estimator:hover {background-color: #d4ebff;}#sk-container-id-1 div.sk-parallel-item::after {content: \"\";width: 100%;border-bottom: 1px solid gray;flex-grow: 1;}#sk-container-id-1 div.sk-label:hover label.sk-toggleable__label {background-color: #d4ebff;}#sk-container-id-1 div.sk-serial::before {content: \"\";position: absolute;border-left: 1px solid gray;box-sizing: border-box;top: 0;bottom: 0;left: 50%;z-index: 0;}#sk-container-id-1 div.sk-serial {display: flex;flex-direction: column;align-items: center;background-color: white;padding-right: 0.2em;padding-left: 0.2em;position: relative;}#sk-container-id-1 div.sk-item {position: relative;z-index: 1;}#sk-container-id-1 div.sk-parallel {display: flex;align-items: stretch;justify-content: center;background-color: white;position: relative;}#sk-container-id-1 div.sk-item::before, #sk-container-id-1 div.sk-parallel-item::before {content: \"\";position: absolute;border-left: 1px solid gray;box-sizing: border-box;top: 0;bottom: 0;left: 50%;z-index: -1;}#sk-container-id-1 div.sk-parallel-item {display: flex;flex-direction: column;z-index: 1;position: relative;background-color: white;}#sk-container-id-1 div.sk-parallel-item:first-child::after {align-self: flex-end;width: 50%;}#sk-container-id-1 div.sk-parallel-item:last-child::after {align-self: flex-start;width: 50%;}#sk-container-id-1 div.sk-parallel-item:only-child::after {width: 0;}#sk-container-id-1 div.sk-dashed-wrapped {border: 1px dashed gray;margin: 0 0.4em 0.5em 0.4em;box-sizing: border-box;padding-bottom: 0.4em;background-color: white;}#sk-container-id-1 div.sk-label label {font-family: monospace;font-weight: bold;display: inline-block;line-height: 1.2em;}#sk-container-id-1 div.sk-label-container {text-align: center;}#sk-container-id-1 div.sk-container {/* jupyter's `normalize.less` sets `[hidden] { display: none; }` but bootstrap.min.css set `[hidden] { display: none !important; }` so we also need the `!important` here to be able to override the default hidden behavior on the sphinx rendered scikit-learn.org. See: https://github.com/scikit-learn/scikit-learn/issues/21755 */display: inline-block !important;position: relative;}#sk-container-id-1 div.sk-text-repr-fallback {display: none;}</style><div id=\"sk-container-id-1\" class=\"sk-top-container\"><div class=\"sk-text-repr-fallback\"><pre>LinearRegression()</pre><b>In a Jupyter environment, please rerun this cell to show the HTML representation or trust the notebook. <br />On GitHub, the HTML representation is unable to render, please try loading this page with nbviewer.org.</b></div><div class=\"sk-container\" hidden><div class=\"sk-item\"><div class=\"sk-estimator sk-toggleable\"><input class=\"sk-toggleable__control sk-hidden--visually\" id=\"sk-estimator-id-1\" type=\"checkbox\" checked><label for=\"sk-estimator-id-1\" class=\"sk-toggleable__label sk-toggleable__label-arrow\">LinearRegression</label><div class=\"sk-toggleable__content\"><pre>LinearRegression()</pre></div></div></div></div></div>"
      ],
      "text/plain": [
       "LinearRegression()"
      ]
     },
     "execution_count": 24,
     "metadata": {},
     "output_type": "execute_result"
    }
   ],
   "source": [
    "regressor = LinearRegression()\n",
    "regressor.fit(X1_train, y1_train)"
   ]
  },
  {
   "cell_type": "code",
   "execution_count": 25,
   "id": "991a0523",
   "metadata": {
    "scrolled": true
   },
   "outputs": [
    {
     "data": {
      "text/plain": [
       "array([ 3.63690234,  4.9677503 ,  5.20489546,  6.08387789,  2.28653436,\n",
       "        2.69610647,  2.61012538,  2.95974311, 11.35068484,  4.83262054,\n",
       "        6.21552192,  2.82472955,  2.61279776,  3.1081186 ,  4.01661346,\n",
       "        4.44256846, 12.90299221,  2.72805891,  3.91634091,  6.08190265])"
      ]
     },
     "execution_count": 25,
     "metadata": {},
     "output_type": "execute_result"
    }
   ],
   "source": [
    "predictions = regressor.predict(X1_test)\n",
    "predictions"
   ]
  },
  {
   "cell_type": "code",
   "execution_count": 26,
   "id": "5bdf46fa",
   "metadata": {},
   "outputs": [
    {
     "data": {
      "image/png": "[encoded data removed]",
      "text/plain": [
       "<Figure size 640x480 with 1 Axes>"
      ]
     },
     "metadata": {},
     "output_type": "display_data"
    }
   ],
   "source": [
    "plt.scatter(X1_train, y1_train)\n",
    "plt.plot(X1_train, regressor.predict(X1_train),'r')\n",
    "plt.title('Population vs Profit (Training set)')\n",
    "plt.xlabel('Population')\n",
    "plt.ylabel('Profit')\n",
    "plt.show()"
   ]
  },
  {
   "cell_type": "code",
   "execution_count": 27,
   "id": "a75df718",
   "metadata": {
    "scrolled": true
   },
   "outputs": [
    {
     "data": {
      "image/png": "[encoded data removed]",
      "text/plain": [
       "<Figure size 640x480 with 1 Axes>"
      ]
     },
     "metadata": {},
     "output_type": "display_data"
    }
   ],
   "source": [
    "plt.scatter(X1_test, y1_test)\n",
    "plt.plot(X1_test, predictions,'r')\n",
    "plt.title('Population vs Profit (Testing set)')\n",
    "plt.xlabel('Population')\n",
    "plt.ylabel('Profit')\n",
    "plt.show()"
   ]
  },
  {
   "cell_type": "markdown",
   "id": "c3f17627",
   "metadata": {},
   "source": [
    "#### Evaluating the model"
   ]
  },
  {
   "cell_type": "markdown",
   "id": "3050245b",
   "metadata": {},
   "source": [
    " Mean Squared Error(MSE) - the better the model fits the data, the less the MSE score."
   ]
  },
  {
   "cell_type": "code",
   "execution_count": 28,
   "id": "461bc3af",
   "metadata": {},
   "outputs": [
    {
     "data": {
      "text/plain": [
       "4.303883384543662"
      ]
     },
     "execution_count": 28,
     "metadata": {},
     "output_type": "execute_result"
    }
   ],
   "source": [
    "MSE_score = mean_squared_error(y1_test, predictions)\n",
    "MSE_score"
   ]
  }
 ],
 "metadata": {
  "kernelspec": {
   "display_name": "Python 3 (ipykernel)",
   "language": "python",
   "name": "python3"
  },
  "language_info": {
   "codemirror_mode": {
    "name": "ipython",
    "version": 3
   },
   "file_extension": ".py",
   "mimetype": "text/x-python",
   "name": "python",
   "nbconvert_exporter": "python",
   "pygments_lexer": "ipython3",
   "version": "3.11.5"
  }
 },
 "nbformat": 4,
 "nbformat_minor": 5
}
