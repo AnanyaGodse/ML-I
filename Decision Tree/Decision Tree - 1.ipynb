{
 "cells": [
  {
   "cell_type": "markdown",
   "id": "95d1569c",
   "metadata": {},
   "source": [
    "#### Name: Ananya Godse   SAP ID: 60009220161"
   ]
  },
  {
   "cell_type": "markdown",
   "id": "01dbc66e",
   "metadata": {},
   "source": [
    "# Decision Tree Classifier - Tennis Dataset"
   ]
  },
  {
   "cell_type": "markdown",
   "id": "d1067e78",
   "metadata": {},
   "source": [
    "### Importing the libraries and the dataset"
   ]
  },
  {
   "cell_type": "code",
   "execution_count": 1,
   "id": "5cf9ef73",
   "metadata": {},
   "outputs": [],
   "source": [
    "import numpy as np\n",
    "import pandas as pd\n",
    "import pprint"
   ]
  },
  {
   "cell_type": "code",
   "execution_count": 2,
   "id": "d4087470",
   "metadata": {},
   "outputs": [
    {
     "data": {
      "text/html": [
       "<div>\n",
       "<style scoped>\n",
       "    .dataframe tbody tr th:only-of-type {\n",
       "        vertical-align: middle;\n",
       "    }\n",
       "\n",
       "    .dataframe tbody tr th {\n",
       "        vertical-align: top;\n",
       "    }\n",
       "\n",
       "    .dataframe thead th {\n",
       "        text-align: right;\n",
       "    }\n",
       "</style>\n",
       "<table border=\"1\" class=\"dataframe\">\n",
       "  <thead>\n",
       "    <tr style=\"text-align: right;\">\n",
       "      <th></th>\n",
       "      <th>Day</th>\n",
       "      <th>Outlook</th>\n",
       "      <th>Temperature</th>\n",
       "      <th>Humidity</th>\n",
       "      <th>Wind</th>\n",
       "      <th>Play Tennis?</th>\n",
       "    </tr>\n",
       "  </thead>\n",
       "  <tbody>\n",
       "    <tr>\n",
       "      <th>0</th>\n",
       "      <td>D1</td>\n",
       "      <td>Sunny</td>\n",
       "      <td>Hot</td>\n",
       "      <td>High</td>\n",
       "      <td>Weak</td>\n",
       "      <td>No</td>\n",
       "    </tr>\n",
       "    <tr>\n",
       "      <th>1</th>\n",
       "      <td>D2</td>\n",
       "      <td>Sunny</td>\n",
       "      <td>Hot</td>\n",
       "      <td>High</td>\n",
       "      <td>Strong</td>\n",
       "      <td>No</td>\n",
       "    </tr>\n",
       "    <tr>\n",
       "      <th>2</th>\n",
       "      <td>D3</td>\n",
       "      <td>Overcast</td>\n",
       "      <td>Hot</td>\n",
       "      <td>High</td>\n",
       "      <td>Weak</td>\n",
       "      <td>Yes</td>\n",
       "    </tr>\n",
       "    <tr>\n",
       "      <th>3</th>\n",
       "      <td>D4</td>\n",
       "      <td>Rain</td>\n",
       "      <td>Mild</td>\n",
       "      <td>High</td>\n",
       "      <td>Weak</td>\n",
       "      <td>Yes</td>\n",
       "    </tr>\n",
       "    <tr>\n",
       "      <th>4</th>\n",
       "      <td>D5</td>\n",
       "      <td>Rain</td>\n",
       "      <td>Cool</td>\n",
       "      <td>Normal</td>\n",
       "      <td>Weak</td>\n",
       "      <td>Yes</td>\n",
       "    </tr>\n",
       "    <tr>\n",
       "      <th>5</th>\n",
       "      <td>D6</td>\n",
       "      <td>Rain</td>\n",
       "      <td>Cool</td>\n",
       "      <td>Normal</td>\n",
       "      <td>Strong</td>\n",
       "      <td>Yes</td>\n",
       "    </tr>\n",
       "    <tr>\n",
       "      <th>6</th>\n",
       "      <td>D7</td>\n",
       "      <td>Overcast</td>\n",
       "      <td>Cool</td>\n",
       "      <td>Normal</td>\n",
       "      <td>Strong</td>\n",
       "      <td>No</td>\n",
       "    </tr>\n",
       "    <tr>\n",
       "      <th>7</th>\n",
       "      <td>D8</td>\n",
       "      <td>Sunny</td>\n",
       "      <td>Mild</td>\n",
       "      <td>High</td>\n",
       "      <td>Weak</td>\n",
       "      <td>Yes</td>\n",
       "    </tr>\n",
       "    <tr>\n",
       "      <th>8</th>\n",
       "      <td>D9</td>\n",
       "      <td>Sunny</td>\n",
       "      <td>Cool</td>\n",
       "      <td>Normal</td>\n",
       "      <td>Weak</td>\n",
       "      <td>No</td>\n",
       "    </tr>\n",
       "    <tr>\n",
       "      <th>9</th>\n",
       "      <td>D10</td>\n",
       "      <td>Rain</td>\n",
       "      <td>Mild</td>\n",
       "      <td>Normal</td>\n",
       "      <td>Weak</td>\n",
       "      <td>Yes</td>\n",
       "    </tr>\n",
       "    <tr>\n",
       "      <th>10</th>\n",
       "      <td>D11</td>\n",
       "      <td>Sunny</td>\n",
       "      <td>Mild</td>\n",
       "      <td>Normal</td>\n",
       "      <td>Strong</td>\n",
       "      <td>Yes</td>\n",
       "    </tr>\n",
       "    <tr>\n",
       "      <th>11</th>\n",
       "      <td>D12</td>\n",
       "      <td>Overcast</td>\n",
       "      <td>Mild</td>\n",
       "      <td>High</td>\n",
       "      <td>Strong</td>\n",
       "      <td>Yes</td>\n",
       "    </tr>\n",
       "    <tr>\n",
       "      <th>12</th>\n",
       "      <td>D13</td>\n",
       "      <td>Overcast</td>\n",
       "      <td>Hot</td>\n",
       "      <td>Normal</td>\n",
       "      <td>Weak</td>\n",
       "      <td>Yes</td>\n",
       "    </tr>\n",
       "    <tr>\n",
       "      <th>13</th>\n",
       "      <td>D14</td>\n",
       "      <td>Rain</td>\n",
       "      <td>Mild</td>\n",
       "      <td>High</td>\n",
       "      <td>Strong</td>\n",
       "      <td>No</td>\n",
       "    </tr>\n",
       "  </tbody>\n",
       "</table>\n",
       "</div>"
      ],
      "text/plain": [
       "    Day   Outlook Temperature Humidity    Wind Play Tennis?\n",
       "0    D1     Sunny         Hot     High    Weak           No\n",
       "1    D2     Sunny         Hot     High  Strong           No\n",
       "2    D3  Overcast         Hot     High    Weak          Yes\n",
       "3    D4      Rain        Mild     High    Weak          Yes\n",
       "4    D5      Rain        Cool   Normal    Weak          Yes\n",
       "5    D6      Rain        Cool   Normal  Strong          Yes\n",
       "6    D7  Overcast        Cool   Normal  Strong           No\n",
       "7    D8     Sunny        Mild     High    Weak          Yes\n",
       "8    D9     Sunny        Cool   Normal    Weak           No\n",
       "9   D10      Rain        Mild   Normal    Weak          Yes\n",
       "10  D11     Sunny        Mild   Normal  Strong          Yes\n",
       "11  D12  Overcast        Mild     High  Strong          Yes\n",
       "12  D13  Overcast         Hot   Normal    Weak          Yes\n",
       "13  D14      Rain        Mild     High  Strong           No"
      ]
     },
     "execution_count": 2,
     "metadata": {},
     "output_type": "execute_result"
    }
   ],
   "source": [
    "df = pd.read_excel(\"tennis.xlsx\")\n",
    "df"
   ]
  },
  {
   "cell_type": "code",
   "execution_count": 3,
   "id": "04f63d2c",
   "metadata": {
    "scrolled": true
   },
   "outputs": [
    {
     "data": {
      "text/html": [
       "<div>\n",
       "<style scoped>\n",
       "    .dataframe tbody tr th:only-of-type {\n",
       "        vertical-align: middle;\n",
       "    }\n",
       "\n",
       "    .dataframe tbody tr th {\n",
       "        vertical-align: top;\n",
       "    }\n",
       "\n",
       "    .dataframe thead th {\n",
       "        text-align: right;\n",
       "    }\n",
       "</style>\n",
       "<table border=\"1\" class=\"dataframe\">\n",
       "  <thead>\n",
       "    <tr style=\"text-align: right;\">\n",
       "      <th></th>\n",
       "      <th>Outlook</th>\n",
       "      <th>Temperature</th>\n",
       "      <th>Humidity</th>\n",
       "      <th>Wind</th>\n",
       "      <th>Play Tennis?</th>\n",
       "    </tr>\n",
       "  </thead>\n",
       "  <tbody>\n",
       "    <tr>\n",
       "      <th>0</th>\n",
       "      <td>Sunny</td>\n",
       "      <td>Hot</td>\n",
       "      <td>High</td>\n",
       "      <td>Weak</td>\n",
       "      <td>No</td>\n",
       "    </tr>\n",
       "    <tr>\n",
       "      <th>1</th>\n",
       "      <td>Sunny</td>\n",
       "      <td>Hot</td>\n",
       "      <td>High</td>\n",
       "      <td>Strong</td>\n",
       "      <td>No</td>\n",
       "    </tr>\n",
       "    <tr>\n",
       "      <th>2</th>\n",
       "      <td>Overcast</td>\n",
       "      <td>Hot</td>\n",
       "      <td>High</td>\n",
       "      <td>Weak</td>\n",
       "      <td>Yes</td>\n",
       "    </tr>\n",
       "    <tr>\n",
       "      <th>3</th>\n",
       "      <td>Rain</td>\n",
       "      <td>Mild</td>\n",
       "      <td>High</td>\n",
       "      <td>Weak</td>\n",
       "      <td>Yes</td>\n",
       "    </tr>\n",
       "    <tr>\n",
       "      <th>4</th>\n",
       "      <td>Rain</td>\n",
       "      <td>Cool</td>\n",
       "      <td>Normal</td>\n",
       "      <td>Weak</td>\n",
       "      <td>Yes</td>\n",
       "    </tr>\n",
       "    <tr>\n",
       "      <th>5</th>\n",
       "      <td>Rain</td>\n",
       "      <td>Cool</td>\n",
       "      <td>Normal</td>\n",
       "      <td>Strong</td>\n",
       "      <td>Yes</td>\n",
       "    </tr>\n",
       "    <tr>\n",
       "      <th>6</th>\n",
       "      <td>Overcast</td>\n",
       "      <td>Cool</td>\n",
       "      <td>Normal</td>\n",
       "      <td>Strong</td>\n",
       "      <td>No</td>\n",
       "    </tr>\n",
       "    <tr>\n",
       "      <th>7</th>\n",
       "      <td>Sunny</td>\n",
       "      <td>Mild</td>\n",
       "      <td>High</td>\n",
       "      <td>Weak</td>\n",
       "      <td>Yes</td>\n",
       "    </tr>\n",
       "    <tr>\n",
       "      <th>8</th>\n",
       "      <td>Sunny</td>\n",
       "      <td>Cool</td>\n",
       "      <td>Normal</td>\n",
       "      <td>Weak</td>\n",
       "      <td>No</td>\n",
       "    </tr>\n",
       "    <tr>\n",
       "      <th>9</th>\n",
       "      <td>Rain</td>\n",
       "      <td>Mild</td>\n",
       "      <td>Normal</td>\n",
       "      <td>Weak</td>\n",
       "      <td>Yes</td>\n",
       "    </tr>\n",
       "    <tr>\n",
       "      <th>10</th>\n",
       "      <td>Sunny</td>\n",
       "      <td>Mild</td>\n",
       "      <td>Normal</td>\n",
       "      <td>Strong</td>\n",
       "      <td>Yes</td>\n",
       "    </tr>\n",
       "    <tr>\n",
       "      <th>11</th>\n",
       "      <td>Overcast</td>\n",
       "      <td>Mild</td>\n",
       "      <td>High</td>\n",
       "      <td>Strong</td>\n",
       "      <td>Yes</td>\n",
       "    </tr>\n",
       "    <tr>\n",
       "      <th>12</th>\n",
       "      <td>Overcast</td>\n",
       "      <td>Hot</td>\n",
       "      <td>Normal</td>\n",
       "      <td>Weak</td>\n",
       "      <td>Yes</td>\n",
       "    </tr>\n",
       "    <tr>\n",
       "      <th>13</th>\n",
       "      <td>Rain</td>\n",
       "      <td>Mild</td>\n",
       "      <td>High</td>\n",
       "      <td>Strong</td>\n",
       "      <td>No</td>\n",
       "    </tr>\n",
       "  </tbody>\n",
       "</table>\n",
       "</div>"
      ],
      "text/plain": [
       "     Outlook Temperature Humidity    Wind Play Tennis?\n",
       "0      Sunny         Hot     High    Weak           No\n",
       "1      Sunny         Hot     High  Strong           No\n",
       "2   Overcast         Hot     High    Weak          Yes\n",
       "3       Rain        Mild     High    Weak          Yes\n",
       "4       Rain        Cool   Normal    Weak          Yes\n",
       "5       Rain        Cool   Normal  Strong          Yes\n",
       "6   Overcast        Cool   Normal  Strong           No\n",
       "7      Sunny        Mild     High    Weak          Yes\n",
       "8      Sunny        Cool   Normal    Weak           No\n",
       "9       Rain        Mild   Normal    Weak          Yes\n",
       "10     Sunny        Mild   Normal  Strong          Yes\n",
       "11  Overcast        Mild     High  Strong          Yes\n",
       "12  Overcast         Hot   Normal    Weak          Yes\n",
       "13      Rain        Mild     High  Strong           No"
      ]
     },
     "execution_count": 3,
     "metadata": {},
     "output_type": "execute_result"
    }
   ],
   "source": [
    "df.drop(columns=[\"Day\"], inplace=True)\n",
    "df"
   ]
  },
  {
   "cell_type": "markdown",
   "id": "2ebe1e83",
   "metadata": {},
   "source": [
    "### Calculating the entropy"
   ]
  },
  {
   "cell_type": "markdown",
   "id": "54ab5051",
   "metadata": {},
   "source": [
    "This function calculates the entropy of the entire dataset, that is, the sum of probability of 'Yes' multiplied by log to the base 2 (probability of 'Yes') and the probability of 'No' multiplied by log to the base 2 (probability of 'No')"
   ]
  },
  {
   "cell_type": "code",
   "execution_count": 4,
   "id": "b76e182d",
   "metadata": {},
   "outputs": [],
   "source": [
    "def entropy(df):\n",
    "    class_col = df.keys()[-1]\n",
    "    class_labels = df[class_col].unique()\n",
    "    entropy = 0\n",
    "    for label in class_labels:\n",
    "        p = df[class_col].value_counts()[label]/len(df[class_col])\n",
    "        entropy += -p * np.log2(p)\n",
    "        \n",
    "    return entropy"
   ]
  },
  {
   "cell_type": "code",
   "execution_count": 5,
   "id": "2098b107",
   "metadata": {},
   "outputs": [
    {
     "name": "stdout",
     "output_type": "stream",
     "text": [
      "Entropy of the dataset: 0.9402859586706311\n"
     ]
    }
   ],
   "source": [
    "print(f\"Entropy of the dataset: {entropy(df)}\")"
   ]
  },
  {
   "cell_type": "markdown",
   "id": "64ba7cec",
   "metadata": {},
   "source": [
    "This function calculates the entropy of each attribute:"
   ]
  },
  {
   "cell_type": "code",
   "execution_count": 6,
   "id": "0c8673c1",
   "metadata": {},
   "outputs": [],
   "source": [
    "def attribute_entropy(df, attribute):\n",
    "    class_col = df.keys()[-1]\n",
    "    class_labels = df[class_col].unique()\n",
    "    attribute_values = df[attribute].unique()\n",
    "    attribute_entropy = 0\n",
    "    for value in attribute_values:\n",
    "        entropy = 0\n",
    "        for label in class_labels:\n",
    "            num = len(df[attribute][df[attribute]==value][df[class_col]==label])\n",
    "            den = len(df[attribute][df[attribute]==value])\n",
    "            p = num/den\n",
    "            entropy += -p * np.log2(p + 0.000001)\n",
    "        attribute_entropy += (den/len(df[attribute])) * entropy\n",
    "    \n",
    "    return attribute_entropy"
   ]
  },
  {
   "cell_type": "markdown",
   "id": "efdd0fc3",
   "metadata": {},
   "source": [
    "As an example"
   ]
  },
  {
   "cell_type": "code",
   "execution_count": 7,
   "id": "5e3f1f30",
   "metadata": {
    "scrolled": true
   },
   "outputs": [
    {
     "name": "stdout",
     "output_type": "stream",
     "text": [
      "Entropy of Outlook: 0.8363903963670357\n"
     ]
    }
   ],
   "source": [
    "print(f\"Entropy of Outlook: {attribute_entropy(df, 'Outlook')}\")"
   ]
  },
  {
   "cell_type": "markdown",
   "id": "f6790124",
   "metadata": {},
   "source": [
    "### Finding the best splitting attribute using Information Gain"
   ]
  },
  {
   "cell_type": "markdown",
   "id": "5274f3af",
   "metadata": {},
   "source": [
    "This function calculates the information gain for each attribute and returns the attribute where the information gain is the largest. "
   ]
  },
  {
   "cell_type": "code",
   "execution_count": 8,
   "id": "b98533ae",
   "metadata": {},
   "outputs": [],
   "source": [
    "def information_gain(df):\n",
    "    info_gain = []\n",
    "    for attribute in df.keys()[:-1]:\n",
    "        gain = entropy(df) - attribute_entropy(df, attribute)\n",
    "        info_gain.append(gain)\n",
    "    \n",
    "    best_split = df.keys()[:-1][np.argmax(info_gain)]\n",
    "    return best_split"
   ]
  },
  {
   "cell_type": "code",
   "execution_count": 9,
   "id": "2202dfc7",
   "metadata": {},
   "outputs": [
    {
     "name": "stdout",
     "output_type": "stream",
     "text": [
      "Attribute with the greatest information gain: Outlook\n"
     ]
    }
   ],
   "source": [
    "print(f\"Attribute with the greatest information gain: {information_gain(df)}\")"
   ]
  },
  {
   "cell_type": "markdown",
   "id": "848e14e7",
   "metadata": {},
   "source": [
    "### Building the tree"
   ]
  },
  {
   "cell_type": "markdown",
   "id": "356cd6ab",
   "metadata": {},
   "source": [
    "This function creates a subtable so that the tree can be grown from the current node. "
   ]
  },
  {
   "cell_type": "code",
   "execution_count": 10,
   "id": "36b12c25",
   "metadata": {},
   "outputs": [],
   "source": [
    "def sub_table(df, attribute, value):\n",
    "    return df[df[attribute] == value].reset_index(drop = True)"
   ]
  },
  {
   "cell_type": "markdown",
   "id": "038e8b3f",
   "metadata": {},
   "source": [
    "This is the actual build tree function that is called recursively until we obtain a pure class at each leaf node. At every call, it filters the original dataset to return only rows that are useful for determining the next node."
   ]
  },
  {
   "cell_type": "code",
   "execution_count": 11,
   "id": "b586c4f8",
   "metadata": {},
   "outputs": [],
   "source": [
    "def build_tree(df, tree=None):\n",
    "    node = information_gain(df)\n",
    "    attribute_values = np.unique(df[node])\n",
    "    class_col = df.keys()[-1]\n",
    "    \n",
    "    if tree is None:\n",
    "        tree = {}\n",
    "        tree[node] = {}\n",
    "        \n",
    "    for value in attribute_values:\n",
    "        subtable = sub_table(df, node, value)\n",
    "        label, counts = np.unique(subtable[class_col], return_counts=True)\n",
    "        if len(counts) == 1: #stopping condition - pure class\n",
    "            tree[node][value] = label[0]\n",
    "        else:\n",
    "            tree[node][value] = build_tree(subtable)\n",
    "    \n",
    "    return tree\n",
    "            "
   ]
  },
  {
   "cell_type": "code",
   "execution_count": 12,
   "id": "4d334b60",
   "metadata": {},
   "outputs": [],
   "source": [
    "tree = build_tree(df)"
   ]
  },
  {
   "cell_type": "markdown",
   "id": "a45d3390",
   "metadata": {},
   "source": [
    "### Printing the Decision Tree"
   ]
  },
  {
   "cell_type": "code",
   "execution_count": 13,
   "id": "accf29df",
   "metadata": {
    "scrolled": false
   },
   "outputs": [
    {
     "name": "stdout",
     "output_type": "stream",
     "text": [
      "{'Outlook': {'Overcast': {'Temperature': {'Cool': 'No',\n",
      "                                          'Hot': 'Yes',\n",
      "                                          'Mild': 'Yes'}},\n",
      "             'Rain': {'Humidity': {'High': {'Wind': {'Strong': 'No',\n",
      "                                                     'Weak': 'Yes'}},\n",
      "                                   'Normal': 'Yes'}},\n",
      "             'Sunny': {'Temperature': {'Cool': 'No',\n",
      "                                       'Hot': 'No',\n",
      "                                       'Mild': 'Yes'}}}}\n"
     ]
    }
   ],
   "source": [
    "pprint.pprint(tree)"
   ]
  },
  {
   "cell_type": "markdown",
   "id": "09b597b5",
   "metadata": {},
   "source": [
    "### Creating a dummy dataset to test the tree"
   ]
  },
  {
   "cell_type": "code",
   "execution_count": 14,
   "id": "0280fa3d",
   "metadata": {},
   "outputs": [],
   "source": [
    "test_df = {'Outlook':['Sunny', 'Rain', 'Overcast'], 'Temperature': ['Hot', 'Mild', 'Mild'],\n",
    "           'Humidity': ['High', 'High', 'Normal'], 'Wind': ['Strong', 'Weak', 'Strong']}\n",
    "test_df = pd.DataFrame(test_df)"
   ]
  },
  {
   "cell_type": "markdown",
   "id": "a7fc958b",
   "metadata": {},
   "source": [
    "### The Predict Function"
   ]
  },
  {
   "cell_type": "markdown",
   "id": "f46f738b",
   "metadata": {},
   "source": [
    "This function traverses the decision tree to find out what the label for the unseen data should be."
   ]
  },
  {
   "cell_type": "code",
   "execution_count": 15,
   "id": "7575f50b",
   "metadata": {},
   "outputs": [],
   "source": [
    "def predict(test, tree):\n",
    "    for node in tree.keys():\n",
    "        value = test[node]\n",
    "        tree = tree[node][value]\n",
    "        prediction = 0\n",
    "        if type(tree) is dict:\n",
    "            prediction = predict(test, tree)\n",
    "        else:\n",
    "            prediction = tree\n",
    "    return prediction"
   ]
  },
  {
   "cell_type": "code",
   "execution_count": 16,
   "id": "039ba81a",
   "metadata": {},
   "outputs": [
    {
     "name": "stdout",
     "output_type": "stream",
     "text": [
      "['No', 'Yes', 'Yes']\n"
     ]
    }
   ],
   "source": [
    "y_labels = []\n",
    "\n",
    "for i in range(len(test_df)):\n",
    "    test = test_df.iloc[i,:]\n",
    "    prediction = predict(test, tree)\n",
    "    y_labels.append(prediction)\n",
    "    \n",
    "print(y_labels)"
   ]
  }
 ],
 "metadata": {
  "kernelspec": {
   "display_name": "Python 3 (ipykernel)",
   "language": "python",
   "name": "python3"
  },
  "language_info": {
   "codemirror_mode": {
    "name": "ipython",
    "version": 3
   },
   "file_extension": ".py",
   "mimetype": "text/x-python",
   "name": "python",
   "nbconvert_exporter": "python",
   "pygments_lexer": "ipython3",
   "version": "3.11.5"
  }
 },
 "nbformat": 4,
 "nbformat_minor": 5
}
