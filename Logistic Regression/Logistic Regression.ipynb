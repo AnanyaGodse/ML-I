{
 "cells": [
  {
   "cell_type": "markdown",
   "id": "0a99b03c",
   "metadata": {},
   "source": [
    "#### Name: Ananya Godse  SAP ID: 60009220161"
   ]
  },
  {
   "cell_type": "markdown",
   "id": "5c903458",
   "metadata": {},
   "source": [
    "### Dataset 1 - Synthetic Data"
   ]
  },
  {
   "cell_type": "markdown",
   "id": "12606b24",
   "metadata": {},
   "source": [
    "#### Importing Libraries"
   ]
  },
  {
   "cell_type": "code",
   "execution_count": 1,
   "id": "d2c3c128",
   "metadata": {},
   "outputs": [],
   "source": [
    "import numpy as np\n",
    "from numpy import log, dot, e, shape\n",
    "import pandas as pd\n",
    "import matplotlib.pyplot as plt\n",
    "from sklearn.datasets import make_classification, load_iris\n",
    "from sklearn.model_selection import train_test_split\n",
    "from sklearn.preprocessing import StandardScaler\n",
    "from sklearn.linear_model import LogisticRegression\n",
    "from sklearn.metrics import accuracy_score\n",
    "from matplotlib.colors import ListedColormap"
   ]
  },
  {
   "cell_type": "markdown",
   "id": "3eaffed4",
   "metadata": {},
   "source": [
    "#### Generating synthetic data"
   ]
  },
  {
   "cell_type": "code",
   "execution_count": 2,
   "id": "80e4459d",
   "metadata": {},
   "outputs": [],
   "source": [
    "X, y = make_classification(n_features=4, n_classes=2, n_samples=100, random_state=42)"
   ]
  },
  {
   "cell_type": "markdown",
   "id": "4c2dbdce",
   "metadata": {},
   "source": [
    "#### Function to standardize the data"
   ]
  },
  {
   "cell_type": "code",
   "execution_count": 3,
   "id": "e07c1771",
   "metadata": {},
   "outputs": [],
   "source": [
    "def standardize(X):\n",
    "    for i in range(np.shape(X)[1]):\n",
    "        X[:, i] = (X[:, i]) - np.mean(X[:, i])/ np.std(X[:, i])\n",
    "\n",
    "        "
   ]
  },
  {
   "cell_type": "markdown",
   "id": "34279065",
   "metadata": {},
   "source": [
    "#### Defining the Logistic Regression class"
   ]
  },
  {
   "cell_type": "code",
   "execution_count": 4,
   "id": "3d7b367e",
   "metadata": {},
   "outputs": [],
   "source": [
    "class Logistic_Regression:\n",
    "    def sigmoid(self, z):\n",
    "        sigmoid = 1/(1+e**(-z))\n",
    "        return sigmoid\n",
    "    \n",
    "    def initialize(self, X):\n",
    "        weights = np.zeros((shape(X)[1]+1, 1))\n",
    "        X = np.c_[np.ones((shape(X)[0],1)), X]\n",
    "        return weights, X\n",
    "    \n",
    "    def fit(self, X, y, alpha=0.001, iter=400):\n",
    "        weights, X = self.initialize(X)\n",
    "        \n",
    "        def cost(theta):\n",
    "            z = dot(X, theta)\n",
    "            cost0 = y.T.dot(log(self.sigmoid(z)))\n",
    "            cost1 = (1 - y).T.dot(log(1-self.sigmoid(z)))\n",
    "            cost = -((cost1 + cost0))/len(y)\n",
    "            return cost\n",
    "    \n",
    "        cost_list = np.zeros(iter)\n",
    "    \n",
    "        for i in range(iter):\n",
    "            weights = weights - alpha*dot(X.T,self.sigmoid(dot(X,weights))-np.reshape(y,(len(y),1)))\n",
    "            cost_list[i] = cost(weights)\n",
    "            self.weights = weights\n",
    "            \n",
    "        return cost_list\n",
    "    \n",
    "    def predict(self,X):\n",
    "        z = dot(self.initialize(X)[1],self.weights)\n",
    "        lis = []\n",
    "        for i in self.sigmoid(z):\n",
    "            if i>0.5:\n",
    "                lis.append(1)\n",
    "            else:\n",
    "                lis.append(0)\n",
    "                \n",
    "        return lis\n",
    "        "
   ]
  },
  {
   "cell_type": "markdown",
   "id": "12a1f0ab",
   "metadata": {},
   "source": [
    "#### Defining the function to calculate the f1 score"
   ]
  },
  {
   "cell_type": "code",
   "execution_count": 5,
   "id": "ac9d94d6",
   "metadata": {},
   "outputs": [],
   "source": [
    "def f1_score(y, y_hat):\n",
    "    tp, tn, fp, fn = 0,0,0,0\n",
    "    for i in range(len(y)):\n",
    "        if y[i] == 1 and y_hat[i] == 1:\n",
    "            tp += 1\n",
    "        elif y[i] == 1 and y_hat[i] == 0:\n",
    "            fn += 1\n",
    "        elif y[i] == 0 and y_hat[i] == 1:\n",
    "            fp += 1\n",
    "        elif y[i] == 0 and y_hat[i] == 0:\n",
    "            tn += 1\n",
    "    precision = tp/(tp+fp)\n",
    "    recall = tp/(tp+fn)\n",
    "    f1_score = 2*precision*recall/(precision+recall)\n",
    "    return f1_score"
   ]
  },
  {
   "cell_type": "markdown",
   "id": "ce06cdeb",
   "metadata": {},
   "source": [
    "#### Standardizing the data"
   ]
  },
  {
   "cell_type": "raw",
   "id": "a9f548f2",
   "metadata": {},
   "source": [
    "standardize(X)"
   ]
  },
  {
   "cell_type": "markdown",
   "id": "b8d2e193",
   "metadata": {},
   "source": [
    "#### Train-test-split"
   ]
  },
  {
   "cell_type": "code",
   "execution_count": 6,
   "id": "b48d1b28",
   "metadata": {},
   "outputs": [],
   "source": [
    "X_train, X_test, y_train, y_test = train_test_split(X, y, test_size=0.2, random_state=42)"
   ]
  },
  {
   "cell_type": "markdown",
   "id": "568f5496",
   "metadata": {},
   "source": [
    "#### Fitting the model and making predictions"
   ]
  },
  {
   "cell_type": "code",
   "execution_count": 7,
   "id": "2f2a1a0d",
   "metadata": {},
   "outputs": [],
   "source": [
    "clf = Logistic_Regression()\n",
    "clf.fit(X_train, y_train)\n",
    "y_pred = clf.predict(X_test)\n",
    "y_tr = clf.predict(X_train)"
   ]
  },
  {
   "cell_type": "markdown",
   "id": "61e181e9",
   "metadata": {},
   "source": [
    "#### Evaluating Model Performance"
   ]
  },
  {
   "cell_type": "code",
   "execution_count": 8,
   "id": "d9314624",
   "metadata": {},
   "outputs": [
    {
     "name": "stdout",
     "output_type": "stream",
     "text": [
      "Training Score:  0.9866666666666666\n",
      "Testing Score:  1.0\n"
     ]
    }
   ],
   "source": [
    "f1_score_training = f1_score(y_train, y_tr)\n",
    "f1_score_testing = f1_score(y_test, y_pred)\n",
    "print(\"Training Score: \", f1_score_training)\n",
    "print(\"Testing Score: \", f1_score_testing)"
   ]
  },
  {
   "cell_type": "markdown",
   "id": "c995c649",
   "metadata": {},
   "source": [
    "### Dataset 2 - IRIS "
   ]
  },
  {
   "cell_type": "code",
   "execution_count": 9,
   "id": "49faf975",
   "metadata": {},
   "outputs": [],
   "source": [
    "iris = load_iris()"
   ]
  },
  {
   "cell_type": "code",
   "execution_count": 10,
   "id": "7bbb4f7b",
   "metadata": {},
   "outputs": [],
   "source": [
    "X1 = iris.data\n",
    "y1 = iris.target"
   ]
  },
  {
   "cell_type": "code",
   "execution_count": 11,
   "id": "4669ce2e",
   "metadata": {},
   "outputs": [],
   "source": [
    "scaler = StandardScaler()\n",
    "scaler.fit(X1)\n",
    "X1 = scaler.transform(X1)"
   ]
  },
  {
   "cell_type": "code",
   "execution_count": 12,
   "id": "cb506b03",
   "metadata": {},
   "outputs": [],
   "source": [
    "X1_train, X1_test, y1_train, y1_test = train_test_split(X1, y1, test_size=0.2, random_state=42)"
   ]
  },
  {
   "cell_type": "code",
   "execution_count": 13,
   "id": "8d26fce5",
   "metadata": {},
   "outputs": [
    {
     "name": "stdout",
     "output_type": "stream",
     "text": [
      "1.0\n"
     ]
    }
   ],
   "source": [
    "clf1 = LogisticRegression()\n",
    "clf1.fit(X_train, y_train)\n",
    "y_pred1 = clf1.predict(X_test)\n",
    "accuracy = accuracy_score(y_test, y_pred1)\n",
    "print(accuracy)"
   ]
  },
  {
   "cell_type": "markdown",
   "id": "31bde6de",
   "metadata": {},
   "source": [
    "#### Regularization"
   ]
  },
  {
   "cell_type": "code",
   "execution_count": 14,
   "id": "6070476c",
   "metadata": {},
   "outputs": [],
   "source": [
    "iris1 = load_iris()\n",
    "X2 = iris.data[:, [2, 3]]\n",
    "y2 = iris.target"
   ]
  },
  {
   "cell_type": "code",
   "execution_count": 15,
   "id": "c2907705",
   "metadata": {},
   "outputs": [],
   "source": [
    "scaler1 = StandardScaler()\n",
    "scaler1.fit(X2)\n",
    "X2 = scaler1.transform(X2)"
   ]
  },
  {
   "cell_type": "code",
   "execution_count": 16,
   "id": "9cc23a3d",
   "metadata": {},
   "outputs": [],
   "source": [
    "X2_train, X2_test, y2_train, y2_test = train_test_split(X2, y2, test_size=0.2, random_state=42)"
   ]
  },
  {
   "cell_type": "code",
   "execution_count": 17,
   "id": "bfa653ce",
   "metadata": {},
   "outputs": [
    {
     "name": "stdout",
     "output_type": "stream",
     "text": [
      "c: 0 accuracy: 1.0\n",
      "c: 1 accuracy: 1.0\n",
      "c: 2 accuracy: 1.0\n",
      "c: 3 accuracy: 1.0\n",
      "c: 4 accuracy: 1.0\n"
     ]
    }
   ],
   "source": [
    "weights, params = [], []\n",
    "for c in range(0, 5):\n",
    "    clf2 = LogisticRegression(C=10**c, random_state=0)\n",
    "    clf2.fit(X2_train, y2_train)\n",
    "    y2_pred = clf2.predict(X2_test)\n",
    "    accuracy2 = accuracy_score(y2_test, y2_pred)\n",
    "    print(f\"c: {c} accuracy: {accuracy2}\")\n",
    "    weights.append(clf2.coef_[1])\n",
    "    params.append(10**c)\n",
    "weights = np.array(weights)\n",
    "    "
   ]
  },
  {
   "cell_type": "code",
   "execution_count": 18,
   "id": "a94d3a8d",
   "metadata": {
    "scrolled": true
   },
   "outputs": [
    {
     "data": {
      "image/png": "[encoded data removed]",
      "text/plain": [
       "<Figure size 640x480 with 1 Axes>"
      ]
     },
     "metadata": {},
     "output_type": "display_data"
    }
   ],
   "source": [
    "plt.plot(params, weights[:, 0], color='blue', marker='x', label='petal length')\n",
    "plt.plot(params, weights[:, 1], color='green', marker='o', label='petal width')\n",
    "plt.ylabel('weight coefficient')\n",
    "plt.xlabel('C')\n",
    "plt.legend(loc='right')\n",
    "plt.xscale('log')\n",
    "plt.show()"
   ]
  },
  {
   "cell_type": "markdown",
   "id": "c8ffb4f2",
   "metadata": {},
   "source": [
    "#### Visualizing the Decision Boundaries"
   ]
  },
  {
   "cell_type": "code",
   "execution_count": 19,
   "id": "c26ad225",
   "metadata": {},
   "outputs": [],
   "source": [
    "iris2 = load_iris()\n",
    "X3 = iris.data[:, [2, 3]]\n",
    "y3 = iris.target"
   ]
  },
  {
   "cell_type": "code",
   "execution_count": 20,
   "id": "e673b544",
   "metadata": {},
   "outputs": [],
   "source": [
    "scaler3 = StandardScaler()\n",
    "scaler3.fit(X3)\n",
    "X3 = scaler3.transform(X3)"
   ]
  },
  {
   "cell_type": "code",
   "execution_count": 21,
   "id": "2c86bfac",
   "metadata": {},
   "outputs": [],
   "source": [
    "X3_train, X3_test, y3_train, y3_test = train_test_split(X3, y3, test_size=0.2)"
   ]
  },
  {
   "cell_type": "code",
   "execution_count": 22,
   "id": "48b2027f",
   "metadata": {},
   "outputs": [
    {
     "data": {
      "text/html": [
       "<style>#sk-container-id-1 {color: black;}#sk-container-id-1 pre{padding: 0;}#sk-container-id-1 div.sk-toggleable {background-color: white;}#sk-container-id-1 label.sk-toggleable__label {cursor: pointer;display: block;width: 100%;margin-bottom: 0;padding: 0.3em;box-sizing: border-box;text-align: center;}#sk-container-id-1 label.sk-toggleable__label-arrow:before {content: \"▸\";float: left;margin-right: 0.25em;color: #696969;}#sk-container-id-1 label.sk-toggleable__label-arrow:hover:before {color: black;}#sk-container-id-1 div.sk-estimator:hover label.sk-toggleable__label-arrow:before {color: black;}#sk-container-id-1 div.sk-toggleable__content {max-height: 0;max-width: 0;overflow: hidden;text-align: left;background-color: #f0f8ff;}#sk-container-id-1 div.sk-toggleable__content pre {margin: 0.2em;color: black;border-radius: 0.25em;background-color: #f0f8ff;}#sk-container-id-1 input.sk-toggleable__control:checked~div.sk-toggleable__content {max-height: 200px;max-width: 100%;overflow: auto;}#sk-container-id-1 input.sk-toggleable__control:checked~label.sk-toggleable__label-arrow:before {content: \"▾\";}#sk-container-id-1 div.sk-estimator input.sk-toggleable__control:checked~label.sk-toggleable__label {background-color: #d4ebff;}#sk-container-id-1 div.sk-label input.sk-toggleable__control:checked~label.sk-toggleable__label {background-color: #d4ebff;}#sk-container-id-1 input.sk-hidden--visually {border: 0;clip: rect(1px 1px 1px 1px);clip: rect(1px, 1px, 1px, 1px);height: 1px;margin: -1px;overflow: hidden;padding: 0;position: absolute;width: 1px;}#sk-container-id-1 div.sk-estimator {font-family: monospace;background-color: #f0f8ff;border: 1px dotted black;border-radius: 0.25em;box-sizing: border-box;margin-bottom: 0.5em;}#sk-container-id-1 div.sk-estimator:hover {background-color: #d4ebff;}#sk-container-id-1 div.sk-parallel-item::after {content: \"\";width: 100%;border-bottom: 1px solid gray;flex-grow: 1;}#sk-container-id-1 div.sk-label:hover label.sk-toggleable__label {background-color: #d4ebff;}#sk-container-id-1 div.sk-serial::before {content: \"\";position: absolute;border-left: 1px solid gray;box-sizing: border-box;top: 0;bottom: 0;left: 50%;z-index: 0;}#sk-container-id-1 div.sk-serial {display: flex;flex-direction: column;align-items: center;background-color: white;padding-right: 0.2em;padding-left: 0.2em;position: relative;}#sk-container-id-1 div.sk-item {position: relative;z-index: 1;}#sk-container-id-1 div.sk-parallel {display: flex;align-items: stretch;justify-content: center;background-color: white;position: relative;}#sk-container-id-1 div.sk-item::before, #sk-container-id-1 div.sk-parallel-item::before {content: \"\";position: absolute;border-left: 1px solid gray;box-sizing: border-box;top: 0;bottom: 0;left: 50%;z-index: -1;}#sk-container-id-1 div.sk-parallel-item {display: flex;flex-direction: column;z-index: 1;position: relative;background-color: white;}#sk-container-id-1 div.sk-parallel-item:first-child::after {align-self: flex-end;width: 50%;}#sk-container-id-1 div.sk-parallel-item:last-child::after {align-self: flex-start;width: 50%;}#sk-container-id-1 div.sk-parallel-item:only-child::after {width: 0;}#sk-container-id-1 div.sk-dashed-wrapped {border: 1px dashed gray;margin: 0 0.4em 0.5em 0.4em;box-sizing: border-box;padding-bottom: 0.4em;background-color: white;}#sk-container-id-1 div.sk-label label {font-family: monospace;font-weight: bold;display: inline-block;line-height: 1.2em;}#sk-container-id-1 div.sk-label-container {text-align: center;}#sk-container-id-1 div.sk-container {/* jupyter's `normalize.less` sets `[hidden] { display: none; }` but bootstrap.min.css set `[hidden] { display: none !important; }` so we also need the `!important` here to be able to override the default hidden behavior on the sphinx rendered scikit-learn.org. See: https://github.com/scikit-learn/scikit-learn/issues/21755 */display: inline-block !important;position: relative;}#sk-container-id-1 div.sk-text-repr-fallback {display: none;}</style><div id=\"sk-container-id-1\" class=\"sk-top-container\"><div class=\"sk-text-repr-fallback\"><pre>LogisticRegression(C=1000.0, random_state=0)</pre><b>In a Jupyter environment, please rerun this cell to show the HTML representation or trust the notebook. <br />On GitHub, the HTML representation is unable to render, please try loading this page with nbviewer.org.</b></div><div class=\"sk-container\" hidden><div class=\"sk-item\"><div class=\"sk-estimator sk-toggleable\"><input class=\"sk-toggleable__control sk-hidden--visually\" id=\"sk-estimator-id-1\" type=\"checkbox\" checked><label for=\"sk-estimator-id-1\" class=\"sk-toggleable__label sk-toggleable__label-arrow\">LogisticRegression</label><div class=\"sk-toggleable__content\"><pre>LogisticRegression(C=1000.0, random_state=0)</pre></div></div></div></div></div>"
      ],
      "text/plain": [
       "LogisticRegression(C=1000.0, random_state=0)"
      ]
     },
     "execution_count": 22,
     "metadata": {},
     "output_type": "execute_result"
    }
   ],
   "source": [
    "clf3 = LogisticRegression(C=1000.0, random_state=0)\n",
    "clf3.fit(X3_train, y3_train)"
   ]
  },
  {
   "cell_type": "code",
   "execution_count": 23,
   "id": "a9f59541",
   "metadata": {},
   "outputs": [
    {
     "data": {
      "image/png": "[encoded data removed]",
      "text/plain": [
       "<Figure size 640x480 with 1 Axes>"
      ]
     },
     "metadata": {},
     "output_type": "display_data"
    }
   ],
   "source": [
    "# Decision region drawing\n",
    "def plot_decision_regions(X, y, classifier, test_idx=None, resolution=0.02):\n",
    "    # setup marker generator and color map\n",
    "    markers = ('s', 'x', 'o', '^', 'v')\n",
    "    colors = ('red', 'blue', 'lightgreen', 'gray', 'cyan')\n",
    "    cmap = ListedColormap(colors[:len(np.unique(y))])\n",
    "    # plot the decision surface\n",
    "    x1_min, x1_max = X[:, 0].min() - 1, X[:, 0].max() + 1\n",
    "    x2_min, x2_max = X[:, 1].min() - 1, X[:, 1].max() + 1\n",
    "    xx1, xx2 = np.meshgrid(np.arange(x1_min, x1_max, resolution),\n",
    "    np.arange(x2_min, x2_max, resolution))\n",
    "    Z = classifier.predict(np.array([xx1.ravel(), xx2.ravel()]).T)\n",
    "    Z = Z.reshape(xx1.shape)\n",
    "    plt.contourf(xx1, xx2, Z, alpha=0.4, cmap=cmap)\n",
    "    plt.xlim(xx1.min(), xx1.max())\n",
    "    plt.ylim(xx2.min(), xx2.max())\n",
    "    # plot all samples\n",
    "    X_test, y_test = X[test_idx, :], y[test_idx]\n",
    "    for idx, cl in enumerate(np.unique(y)):\n",
    "        plt.scatter(x=X[y == cl, 0], y=X[y == cl, 1],\n",
    "                    alpha=0.8, color=cmap(idx),\n",
    "                    marker=markers[idx], label=cl)\n",
    "    # highlight test samples\n",
    "    if test_idx:\n",
    "        X_test, y_test = X[test_idx, :], y[test_idx]\n",
    "        plt.scatter(X_test[:, 0], X_test[:, 1], color='Yellow',\n",
    "                    alpha=1.0, linewidth=1, marker='o',\n",
    "                    s=55, label='test set')\n",
    "        \n",
    "X_combined = np.vstack((X3_train, X3_test))\n",
    "y_combined = np.hstack((y3_train, y3_test))\n",
    "plot_decision_regions(X_combined,\n",
    "                      y_combined, classifier=clf3,\n",
    "                      test_idx=range(105, 150))\n",
    "plt.xlabel('petal length [standardized]')\n",
    "plt.ylabel('petal width [standardized]')\n",
    "plt.legend(loc='upper left')\n",
    "plt.show()"
   ]
  },
  {
   "cell_type": "markdown",
   "id": "2e95d774",
   "metadata": {},
   "source": [
    "##### Compare the results of Logistic Regression model with and without regularization."
   ]
  },
  {
   "cell_type": "markdown",
   "id": "10509f6a",
   "metadata": {},
   "source": [
    "The accuracy of the model with and without regularization was the same. This suggests that regularization helps in reducing overfitting and improving the model's generalization ability. Also the decision boundary is smoother and the model is less sensitive to outliers in the training data."
   ]
  }
 ],
 "metadata": {
  "kernelspec": {
   "display_name": "Python 3 (ipykernel)",
   "language": "python",
   "name": "python3"
  },
  "language_info": {
   "codemirror_mode": {
    "name": "ipython",
    "version": 3
   },
   "file_extension": ".py",
   "mimetype": "text/x-python",
   "name": "python",
   "nbconvert_exporter": "python",
   "pygments_lexer": "ipython3",
   "version": "3.11.5"
  }
 },
 "nbformat": 4,
 "nbformat_minor": 5
}
