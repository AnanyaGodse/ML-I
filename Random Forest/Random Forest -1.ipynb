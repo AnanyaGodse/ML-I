{
 "cells": [
  {
   "cell_type": "markdown",
   "id": "e58f1c9e",
   "metadata": {},
   "source": [
    "#### Name: Ananya Godse SAPID: 60009220161"
   ]
  },
  {
   "cell_type": "markdown",
   "id": "ef7d530b",
   "metadata": {},
   "source": [
    "## Random Forest Classifier - Breast Cancer Dataset"
   ]
  },
  {
   "cell_type": "markdown",
   "id": "a1d50a60",
   "metadata": {},
   "source": [
    "### Importing the necessary libraries"
   ]
  },
  {
   "cell_type": "code",
   "execution_count": 1,
   "id": "1834e63e",
   "metadata": {},
   "outputs": [],
   "source": [
    "import pandas as pd\n",
    "import numpy as np\n",
    "import matplotlib.pyplot as plt\n",
    "import seaborn as sns\n",
    "import pprint"
   ]
  },
  {
   "cell_type": "markdown",
   "id": "d80c7af5",
   "metadata": {},
   "source": [
    "### Loading and pre-processing the dataset"
   ]
  },
  {
   "cell_type": "code",
   "execution_count": 2,
   "id": "8a140c9f",
   "metadata": {},
   "outputs": [
    {
     "data": {
      "text/html": [
       "<div>\n",
       "<style scoped>\n",
       "    .dataframe tbody tr th:only-of-type {\n",
       "        vertical-align: middle;\n",
       "    }\n",
       "\n",
       "    .dataframe tbody tr th {\n",
       "        vertical-align: top;\n",
       "    }\n",
       "\n",
       "    .dataframe thead th {\n",
       "        text-align: right;\n",
       "    }\n",
       "</style>\n",
       "<table border=\"1\" class=\"dataframe\">\n",
       "  <thead>\n",
       "    <tr style=\"text-align: right;\">\n",
       "      <th></th>\n",
       "      <th>mean_radius</th>\n",
       "      <th>mean_texture</th>\n",
       "      <th>mean_perimeter</th>\n",
       "      <th>mean_area</th>\n",
       "      <th>mean_smoothness</th>\n",
       "      <th>diagnosis</th>\n",
       "    </tr>\n",
       "  </thead>\n",
       "  <tbody>\n",
       "    <tr>\n",
       "      <th>0</th>\n",
       "      <td>17.99</td>\n",
       "      <td>10.38</td>\n",
       "      <td>122.80</td>\n",
       "      <td>1001.0</td>\n",
       "      <td>0.11840</td>\n",
       "      <td>0</td>\n",
       "    </tr>\n",
       "    <tr>\n",
       "      <th>1</th>\n",
       "      <td>20.57</td>\n",
       "      <td>17.77</td>\n",
       "      <td>132.90</td>\n",
       "      <td>1326.0</td>\n",
       "      <td>0.08474</td>\n",
       "      <td>0</td>\n",
       "    </tr>\n",
       "    <tr>\n",
       "      <th>2</th>\n",
       "      <td>19.69</td>\n",
       "      <td>21.25</td>\n",
       "      <td>130.00</td>\n",
       "      <td>1203.0</td>\n",
       "      <td>0.10960</td>\n",
       "      <td>0</td>\n",
       "    </tr>\n",
       "    <tr>\n",
       "      <th>3</th>\n",
       "      <td>11.42</td>\n",
       "      <td>20.38</td>\n",
       "      <td>77.58</td>\n",
       "      <td>386.1</td>\n",
       "      <td>0.14250</td>\n",
       "      <td>0</td>\n",
       "    </tr>\n",
       "    <tr>\n",
       "      <th>4</th>\n",
       "      <td>20.29</td>\n",
       "      <td>14.34</td>\n",
       "      <td>135.10</td>\n",
       "      <td>1297.0</td>\n",
       "      <td>0.10030</td>\n",
       "      <td>0</td>\n",
       "    </tr>\n",
       "    <tr>\n",
       "      <th>...</th>\n",
       "      <td>...</td>\n",
       "      <td>...</td>\n",
       "      <td>...</td>\n",
       "      <td>...</td>\n",
       "      <td>...</td>\n",
       "      <td>...</td>\n",
       "    </tr>\n",
       "    <tr>\n",
       "      <th>564</th>\n",
       "      <td>21.56</td>\n",
       "      <td>22.39</td>\n",
       "      <td>142.00</td>\n",
       "      <td>1479.0</td>\n",
       "      <td>0.11100</td>\n",
       "      <td>0</td>\n",
       "    </tr>\n",
       "    <tr>\n",
       "      <th>565</th>\n",
       "      <td>20.13</td>\n",
       "      <td>28.25</td>\n",
       "      <td>131.20</td>\n",
       "      <td>1261.0</td>\n",
       "      <td>0.09780</td>\n",
       "      <td>0</td>\n",
       "    </tr>\n",
       "    <tr>\n",
       "      <th>566</th>\n",
       "      <td>16.60</td>\n",
       "      <td>28.08</td>\n",
       "      <td>108.30</td>\n",
       "      <td>858.1</td>\n",
       "      <td>0.08455</td>\n",
       "      <td>0</td>\n",
       "    </tr>\n",
       "    <tr>\n",
       "      <th>567</th>\n",
       "      <td>20.60</td>\n",
       "      <td>29.33</td>\n",
       "      <td>140.10</td>\n",
       "      <td>1265.0</td>\n",
       "      <td>0.11780</td>\n",
       "      <td>0</td>\n",
       "    </tr>\n",
       "    <tr>\n",
       "      <th>568</th>\n",
       "      <td>7.76</td>\n",
       "      <td>24.54</td>\n",
       "      <td>47.92</td>\n",
       "      <td>181.0</td>\n",
       "      <td>0.05263</td>\n",
       "      <td>1</td>\n",
       "    </tr>\n",
       "  </tbody>\n",
       "</table>\n",
       "<p>569 rows × 6 columns</p>\n",
       "</div>"
      ],
      "text/plain": [
       "     mean_radius  mean_texture  mean_perimeter  mean_area  mean_smoothness  \\\n",
       "0          17.99         10.38          122.80     1001.0          0.11840   \n",
       "1          20.57         17.77          132.90     1326.0          0.08474   \n",
       "2          19.69         21.25          130.00     1203.0          0.10960   \n",
       "3          11.42         20.38           77.58      386.1          0.14250   \n",
       "4          20.29         14.34          135.10     1297.0          0.10030   \n",
       "..           ...           ...             ...        ...              ...   \n",
       "564        21.56         22.39          142.00     1479.0          0.11100   \n",
       "565        20.13         28.25          131.20     1261.0          0.09780   \n",
       "566        16.60         28.08          108.30      858.1          0.08455   \n",
       "567        20.60         29.33          140.10     1265.0          0.11780   \n",
       "568         7.76         24.54           47.92      181.0          0.05263   \n",
       "\n",
       "     diagnosis  \n",
       "0            0  \n",
       "1            0  \n",
       "2            0  \n",
       "3            0  \n",
       "4            0  \n",
       "..         ...  \n",
       "564          0  \n",
       "565          0  \n",
       "566          0  \n",
       "567          0  \n",
       "568          1  \n",
       "\n",
       "[569 rows x 6 columns]"
      ]
     },
     "execution_count": 2,
     "metadata": {},
     "output_type": "execute_result"
    }
   ],
   "source": [
    "df = pd.read_csv(\"breast_cancer.csv\")\n",
    "df"
   ]
  },
  {
   "cell_type": "code",
   "execution_count": 3,
   "id": "c7796052",
   "metadata": {
    "scrolled": true
   },
   "outputs": [
    {
     "data": {
      "text/plain": [
       "mean_radius        0\n",
       "mean_texture       0\n",
       "mean_perimeter     0\n",
       "mean_area          0\n",
       "mean_smoothness    0\n",
       "diagnosis          0\n",
       "dtype: int64"
      ]
     },
     "execution_count": 3,
     "metadata": {},
     "output_type": "execute_result"
    }
   ],
   "source": [
    "df.isnull().sum()"
   ]
  },
  {
   "cell_type": "code",
   "execution_count": 4,
   "id": "5bb6cffb",
   "metadata": {},
   "outputs": [
    {
     "data": {
      "image/png": "[encoded data removed]",
      "text/plain": [
       "<Figure size 640x480 with 2 Axes>"
      ]
     },
     "metadata": {},
     "output_type": "display_data"
    }
   ],
   "source": [
    "sns.heatmap(df.corr(), annot=True, fmt='0.1g')\n",
    "plt.show()"
   ]
  },
  {
   "cell_type": "code",
   "execution_count": 5,
   "id": "b04e0c1a",
   "metadata": {},
   "outputs": [
    {
     "data": {
      "text/html": [
       "<div>\n",
       "<style scoped>\n",
       "    .dataframe tbody tr th:only-of-type {\n",
       "        vertical-align: middle;\n",
       "    }\n",
       "\n",
       "    .dataframe tbody tr th {\n",
       "        vertical-align: top;\n",
       "    }\n",
       "\n",
       "    .dataframe thead th {\n",
       "        text-align: right;\n",
       "    }\n",
       "</style>\n",
       "<table border=\"1\" class=\"dataframe\">\n",
       "  <thead>\n",
       "    <tr style=\"text-align: right;\">\n",
       "      <th></th>\n",
       "      <th>mean_radius</th>\n",
       "      <th>mean_texture</th>\n",
       "      <th>mean_smoothness</th>\n",
       "      <th>diagnosis</th>\n",
       "    </tr>\n",
       "  </thead>\n",
       "  <tbody>\n",
       "    <tr>\n",
       "      <th>0</th>\n",
       "      <td>17.99</td>\n",
       "      <td>10.38</td>\n",
       "      <td>0.11840</td>\n",
       "      <td>0</td>\n",
       "    </tr>\n",
       "    <tr>\n",
       "      <th>1</th>\n",
       "      <td>20.57</td>\n",
       "      <td>17.77</td>\n",
       "      <td>0.08474</td>\n",
       "      <td>0</td>\n",
       "    </tr>\n",
       "    <tr>\n",
       "      <th>2</th>\n",
       "      <td>19.69</td>\n",
       "      <td>21.25</td>\n",
       "      <td>0.10960</td>\n",
       "      <td>0</td>\n",
       "    </tr>\n",
       "    <tr>\n",
       "      <th>3</th>\n",
       "      <td>11.42</td>\n",
       "      <td>20.38</td>\n",
       "      <td>0.14250</td>\n",
       "      <td>0</td>\n",
       "    </tr>\n",
       "    <tr>\n",
       "      <th>4</th>\n",
       "      <td>20.29</td>\n",
       "      <td>14.34</td>\n",
       "      <td>0.10030</td>\n",
       "      <td>0</td>\n",
       "    </tr>\n",
       "    <tr>\n",
       "      <th>...</th>\n",
       "      <td>...</td>\n",
       "      <td>...</td>\n",
       "      <td>...</td>\n",
       "      <td>...</td>\n",
       "    </tr>\n",
       "    <tr>\n",
       "      <th>564</th>\n",
       "      <td>21.56</td>\n",
       "      <td>22.39</td>\n",
       "      <td>0.11100</td>\n",
       "      <td>0</td>\n",
       "    </tr>\n",
       "    <tr>\n",
       "      <th>565</th>\n",
       "      <td>20.13</td>\n",
       "      <td>28.25</td>\n",
       "      <td>0.09780</td>\n",
       "      <td>0</td>\n",
       "    </tr>\n",
       "    <tr>\n",
       "      <th>566</th>\n",
       "      <td>16.60</td>\n",
       "      <td>28.08</td>\n",
       "      <td>0.08455</td>\n",
       "      <td>0</td>\n",
       "    </tr>\n",
       "    <tr>\n",
       "      <th>567</th>\n",
       "      <td>20.60</td>\n",
       "      <td>29.33</td>\n",
       "      <td>0.11780</td>\n",
       "      <td>0</td>\n",
       "    </tr>\n",
       "    <tr>\n",
       "      <th>568</th>\n",
       "      <td>7.76</td>\n",
       "      <td>24.54</td>\n",
       "      <td>0.05263</td>\n",
       "      <td>1</td>\n",
       "    </tr>\n",
       "  </tbody>\n",
       "</table>\n",
       "<p>569 rows × 4 columns</p>\n",
       "</div>"
      ],
      "text/plain": [
       "     mean_radius  mean_texture  mean_smoothness  diagnosis\n",
       "0          17.99         10.38          0.11840          0\n",
       "1          20.57         17.77          0.08474          0\n",
       "2          19.69         21.25          0.10960          0\n",
       "3          11.42         20.38          0.14250          0\n",
       "4          20.29         14.34          0.10030          0\n",
       "..           ...           ...              ...        ...\n",
       "564        21.56         22.39          0.11100          0\n",
       "565        20.13         28.25          0.09780          0\n",
       "566        16.60         28.08          0.08455          0\n",
       "567        20.60         29.33          0.11780          0\n",
       "568         7.76         24.54          0.05263          1\n",
       "\n",
       "[569 rows x 4 columns]"
      ]
     },
     "execution_count": 5,
     "metadata": {},
     "output_type": "execute_result"
    }
   ],
   "source": [
    "df.drop(['mean_perimeter', 'mean_area'], axis=1, inplace=True)\n",
    "df"
   ]
  },
  {
   "cell_type": "code",
   "execution_count": 6,
   "id": "a8f0a490",
   "metadata": {},
   "outputs": [
    {
     "data": {
      "text/html": [
       "<div>\n",
       "<style scoped>\n",
       "    .dataframe tbody tr th:only-of-type {\n",
       "        vertical-align: middle;\n",
       "    }\n",
       "\n",
       "    .dataframe tbody tr th {\n",
       "        vertical-align: top;\n",
       "    }\n",
       "\n",
       "    .dataframe thead th {\n",
       "        text-align: right;\n",
       "    }\n",
       "</style>\n",
       "<table border=\"1\" class=\"dataframe\">\n",
       "  <thead>\n",
       "    <tr style=\"text-align: right;\">\n",
       "      <th></th>\n",
       "      <th>cmean_radius</th>\n",
       "      <th>cmean_texture</th>\n",
       "      <th>cmean_smoothness</th>\n",
       "      <th>diagnosis</th>\n",
       "    </tr>\n",
       "  </thead>\n",
       "  <tbody>\n",
       "    <tr>\n",
       "      <th>0</th>\n",
       "      <td>1</td>\n",
       "      <td>0</td>\n",
       "      <td>1</td>\n",
       "      <td>0</td>\n",
       "    </tr>\n",
       "    <tr>\n",
       "      <th>1</th>\n",
       "      <td>1</td>\n",
       "      <td>0</td>\n",
       "      <td>0</td>\n",
       "      <td>0</td>\n",
       "    </tr>\n",
       "    <tr>\n",
       "      <th>2</th>\n",
       "      <td>1</td>\n",
       "      <td>1</td>\n",
       "      <td>1</td>\n",
       "      <td>0</td>\n",
       "    </tr>\n",
       "    <tr>\n",
       "      <th>3</th>\n",
       "      <td>0</td>\n",
       "      <td>1</td>\n",
       "      <td>2</td>\n",
       "      <td>0</td>\n",
       "    </tr>\n",
       "    <tr>\n",
       "      <th>4</th>\n",
       "      <td>1</td>\n",
       "      <td>0</td>\n",
       "      <td>1</td>\n",
       "      <td>0</td>\n",
       "    </tr>\n",
       "  </tbody>\n",
       "</table>\n",
       "</div>"
      ],
      "text/plain": [
       "  cmean_radius cmean_texture cmean_smoothness  diagnosis\n",
       "0            1             0                1          0\n",
       "1            1             0                0          0\n",
       "2            1             1                1          0\n",
       "3            0             1                2          0\n",
       "4            1             0                1          0"
      ]
     },
     "execution_count": 6,
     "metadata": {},
     "output_type": "execute_result"
    }
   ],
   "source": [
    "df[\"cmean_radius\"] = pd.cut(df[\"mean_radius\"].values, bins = 3, labels = [0,1,2])\n",
    "df[\"cmean_texture\"] = pd.cut(df[\"mean_texture\"].values, bins = 3, labels = [0,1,2])\n",
    "df[\"cmean_smoothness\"] = pd.cut(df[\"mean_smoothness\"].values, bins = 3, labels = [0,1,2])\n",
    "df = df.drop(columns=[\"mean_radius\", \"mean_texture\", \"mean_smoothness\"])\n",
    "df = df[[\"cmean_radius\", \"cmean_texture\", \"cmean_smoothness\",\"diagnosis\"]]\n",
    "df.head()\n"
   ]
  },
  {
   "cell_type": "markdown",
   "id": "34e85dca",
   "metadata": {},
   "source": [
    "### Calculating the entropy"
   ]
  },
  {
   "cell_type": "markdown",
   "id": "eaff1e94",
   "metadata": {},
   "source": [
    "This function calculates the entropy of the entire dataset, that is, the sum of probability of 'Yes' multiplied by log to the base 2 (probability of 'Yes') and the probability of 'No' multiplied by log to the base 2 (probability of 'No')"
   ]
  },
  {
   "cell_type": "code",
   "execution_count": 7,
   "id": "d139544b",
   "metadata": {},
   "outputs": [],
   "source": [
    "def entropy(df):\n",
    "    class_col = df.keys()[-1]\n",
    "    class_labels = df[class_col].unique()\n",
    "    entropy = 0\n",
    "    for label in class_labels:\n",
    "        p = df[class_col].value_counts()[label]/len(df[class_col])\n",
    "        entropy += -p * np.log2(p)\n",
    "        \n",
    "    return entropy"
   ]
  },
  {
   "cell_type": "code",
   "execution_count": 8,
   "id": "182a0429",
   "metadata": {},
   "outputs": [
    {
     "name": "stdout",
     "output_type": "stream",
     "text": [
      "Entropy of the dataset: 0.9526351224018599\n"
     ]
    }
   ],
   "source": [
    "print(f\"Entropy of the dataset: {entropy(df)}\")"
   ]
  },
  {
   "cell_type": "markdown",
   "id": "6606a124",
   "metadata": {},
   "source": [
    "This function calculates the entropy of each attribute:"
   ]
  },
  {
   "cell_type": "code",
   "execution_count": 9,
   "id": "9c252874",
   "metadata": {},
   "outputs": [],
   "source": [
    "def attribute_entropy(df, attribute):\n",
    "    class_col = df.keys()[-1]\n",
    "    class_labels = df[class_col].unique()\n",
    "    attribute_values = df[attribute].unique()\n",
    "    attribute_entropy = 0\n",
    "    for value in attribute_values:\n",
    "        entropy = 0\n",
    "        for label in class_labels:\n",
    "            num = len(df[attribute][df[attribute]==value][df[class_col]==label])\n",
    "            den = len(df[attribute][df[attribute]==value])\n",
    "            p = num/den\n",
    "            entropy += -p * np.log2(p + 0.000001)\n",
    "        attribute_entropy += (den/len(df[attribute])) * entropy\n",
    "    \n",
    "    return attribute_entropy"
   ]
  },
  {
   "cell_type": "markdown",
   "id": "f3ecf362",
   "metadata": {},
   "source": [
    "As an example"
   ]
  },
  {
   "cell_type": "code",
   "execution_count": 10,
   "id": "722ac2bb",
   "metadata": {},
   "outputs": [
    {
     "name": "stdout",
     "output_type": "stream",
     "text": [
      "Entropy of Mean Radius: 0.5628857073951054\n"
     ]
    }
   ],
   "source": [
    "print(f\"Entropy of Mean Radius: {attribute_entropy(df, 'cmean_radius')}\")"
   ]
  },
  {
   "cell_type": "markdown",
   "id": "23320ad2",
   "metadata": {},
   "source": [
    "### Finding the best splitting attribute using Information Gain"
   ]
  },
  {
   "cell_type": "markdown",
   "id": "b407a411",
   "metadata": {},
   "source": [
    "This function calculates the information gain for each attribute and returns the attribute where the information gain is the largest. "
   ]
  },
  {
   "cell_type": "code",
   "execution_count": 11,
   "id": "defef4e2",
   "metadata": {},
   "outputs": [],
   "source": [
    "def information_gain(df):\n",
    "    info_gain = []\n",
    "    for attribute in df.keys()[:-1]:\n",
    "        gain = entropy(df) - attribute_entropy(df, attribute)\n",
    "        info_gain.append(gain)\n",
    "    \n",
    "    best_split = df.keys()[:-1][np.argmax(info_gain)]\n",
    "    return best_split"
   ]
  },
  {
   "cell_type": "code",
   "execution_count": 12,
   "id": "bb8812f7",
   "metadata": {},
   "outputs": [
    {
     "name": "stdout",
     "output_type": "stream",
     "text": [
      "Attribute with the greatest information gain: cmean_radius\n"
     ]
    }
   ],
   "source": [
    "print(f\"Attribute with the greatest information gain: {information_gain(df)}\")"
   ]
  },
  {
   "cell_type": "markdown",
   "id": "06b09f6a",
   "metadata": {},
   "source": [
    "### Building the tree"
   ]
  },
  {
   "cell_type": "markdown",
   "id": "2a98df39",
   "metadata": {},
   "source": [
    "This function creates a subtable so that the tree can be grown from the current node. "
   ]
  },
  {
   "cell_type": "code",
   "execution_count": 13,
   "id": "22c98d99",
   "metadata": {},
   "outputs": [],
   "source": [
    "def sub_table(df, attribute, value):\n",
    "    return df[df[attribute] == value].reset_index(drop = True)"
   ]
  },
  {
   "cell_type": "markdown",
   "id": "df58431f",
   "metadata": {},
   "source": [
    "This is the actual build tree function that is called recursively until we obtain a pure class at each leaf node. At every call, it filters the original dataset to return only rows that are useful for determining the next node."
   ]
  },
  {
   "cell_type": "code",
   "execution_count": 14,
   "id": "6ebaee4e",
   "metadata": {},
   "outputs": [],
   "source": [
    "def build_tree(df, tree=None, depth=0, max_depth=5):\n",
    "    class_col = df.keys()[-1]\n",
    "    node = information_gain(df)\n",
    "    attribute_values = np.unique(df[node])\n",
    "\n",
    "    if tree is None:\n",
    "        tree = {}\n",
    "        tree[node] = {}\n",
    "\n",
    "    for value in attribute_values:\n",
    "        subtable = sub_table(df, node, value)\n",
    "        label, counts = np.unique(subtable[class_col], return_counts=True)\n",
    "        \n",
    "        if len(counts) == 1 or depth == max_depth:  \n",
    "            tree[node][value] = label[0]\n",
    "        else:\n",
    "            tree[node][value] = build_tree(subtable, depth=depth+1)  \n",
    "    \n",
    "    return tree"
   ]
  },
  {
   "cell_type": "markdown",
   "id": "e9615be0",
   "metadata": {},
   "source": [
    "### A single decision tree"
   ]
  },
  {
   "cell_type": "code",
   "execution_count": 15,
   "id": "9eab25b2",
   "metadata": {
    "scrolled": true
   },
   "outputs": [],
   "source": [
    "tree = build_tree(df, max_depth=3)"
   ]
  },
  {
   "cell_type": "code",
   "execution_count": 16,
   "id": "bd67a4db",
   "metadata": {},
   "outputs": [
    {
     "name": "stdout",
     "output_type": "stream",
     "text": [
      "{'cmean_radius': {0: {'cmean_smoothness': {0: {'cmean_texture': {0: 1,\n",
      "                                                                 1: {'cmean_radius': {0: {'cmean_radius': {0: {'cmean_radius': {0: 0}}}}}},\n",
      "                                                                 2: 1}},\n",
      "                                           1: {'cmean_texture': {0: {'cmean_radius': {0: {'cmean_radius': {0: {'cmean_radius': {0: 0}}}}}},\n",
      "                                                                 1: {'cmean_radius': {0: {'cmean_radius': {0: {'cmean_radius': {0: 0}}}}}},\n",
      "                                                                 2: 1}},\n",
      "                                           2: {'cmean_texture': {0: {'cmean_radius': {0: {'cmean_radius': {0: {'cmean_radius': {0: 0}}}}}},\n",
      "                                                                 1: 0}}}},\n",
      "                  1: {'cmean_texture': {0: {'cmean_smoothness': {0: {'cmean_radius': {1: {'cmean_radius': {1: {'cmean_radius': {1: 0}}}}}},\n",
      "                                                                 1: {'cmean_radius': {1: {'cmean_radius': {1: {'cmean_radius': {1: 0}}}}}},\n",
      "                                                                 2: 0}},\n",
      "                                        1: {'cmean_smoothness': {0: {'cmean_radius': {1: {'cmean_radius': {1: {'cmean_radius': {1: 0}}}}}},\n",
      "                                                                 1: {'cmean_radius': {1: {'cmean_radius': {1: {'cmean_radius': {1: 0}}}}}},\n",
      "                                                                 2: 0}},\n",
      "                                        2: 0}},\n",
      "                  2: 0}}\n"
     ]
    }
   ],
   "source": [
    "pprint.pprint(tree)"
   ]
  },
  {
   "cell_type": "markdown",
   "id": "8985d677",
   "metadata": {},
   "source": [
    "### Predicting the results of a single decision tree"
   ]
  },
  {
   "cell_type": "code",
   "execution_count": 17,
   "id": "35788a84",
   "metadata": {},
   "outputs": [],
   "source": [
    "def predict(test, tree):\n",
    "    for node, subtree in tree.items():\n",
    "        if node in test:\n",
    "            value = test[node]\n",
    "            if value in subtree:\n",
    "                if isinstance(subtree[value], dict):\n",
    "                    return predict(test, subtree[value])\n",
    "                else:\n",
    "                    return subtree[value]\n"
   ]
  },
  {
   "cell_type": "code",
   "execution_count": 18,
   "id": "b1b7ead8",
   "metadata": {
    "scrolled": true
   },
   "outputs": [
    {
     "name": "stdout",
     "output_type": "stream",
     "text": [
      "0\n"
     ]
    }
   ],
   "source": [
    "input_data = {'cmean_radius': 1, 'cmean_texture': 0, 'cmean_smoothness': 1}\n",
    "pred = predict(input_data,tree)\n",
    "print(pred)"
   ]
  },
  {
   "cell_type": "markdown",
   "id": "cdde4e4f",
   "metadata": {},
   "source": [
    "### Building a random forest"
   ]
  },
  {
   "cell_type": "code",
   "execution_count": 19,
   "id": "ef21a167",
   "metadata": {},
   "outputs": [],
   "source": [
    "trees = []\n",
    "def build_forest(n_estimators, df):\n",
    "    for i in range(n_estimators):\n",
    "        s_df = df.sample(frac=1/n_estimators, replace=True).reset_index(drop=True)\n",
    "        trees.append(build_tree(s_df)) \n",
    "    return trees"
   ]
  },
  {
   "cell_type": "code",
   "execution_count": 20,
   "id": "3b24dcd2",
   "metadata": {},
   "outputs": [],
   "source": [
    "forest = build_forest(12, df)"
   ]
  },
  {
   "cell_type": "code",
   "execution_count": 21,
   "id": "c265deb4",
   "metadata": {},
   "outputs": [
    {
     "name": "stdout",
     "output_type": "stream",
     "text": [
      "[{'cmean_radius': {0: {'cmean_texture': {0: 1,\n",
      "                                         1: {'cmean_smoothness': {0: 1,\n",
      "                                                                  1: {'cmean_radius': {0: {'cmean_radius': {0: {'cmean_radius': {0: 0}}}}}},\n",
      "                                                                  2: 0}}}},\n",
      "                   1: {'cmean_texture': {0: {'cmean_smoothness': {0: 1,\n",
      "                                                                  1: {'cmean_radius': {1: {'cmean_radius': {1: {'cmean_radius': {1: 0}}}}}}}},\n",
      "                                         1: 0}}}},\n",
      " {'cmean_radius': {0: {'cmean_texture': {0: 1,\n",
      "                                         1: {'cmean_smoothness': {0: 1,\n",
      "                                                                  1: {'cmean_radius': {0: {'cmean_radius': {0: {'cmean_radius': {0: 0}}}}}}}},\n",
      "                                         2: 1}},\n",
      "                   1: {'cmean_texture': {0: {'cmean_smoothness': {0: 1,\n",
      "                                                                  1: {'cmean_radius': {1: {'cmean_radius': {1: {'cmean_radius': {1: 0}}}}}}}},\n",
      "                                         1: 0}},\n",
      "                   2: 0}},\n",
      " {'cmean_radius': {0: {'cmean_smoothness': {0: 1,\n",
      "                                            1: {'cmean_texture': {0: {'cmean_radius': {0: {'cmean_radius': {0: {'cmean_radius': {0: 0}}}}}},\n",
      "                                                                  1: {'cmean_radius': {0: {'cmean_radius': {0: {'cmean_radius': {0: 0}}}}}}}}}},\n",
      "                   1: {'cmean_smoothness': {0: {'cmean_texture': {0: 1,\n",
      "                                                                  1: {'cmean_radius': {1: {'cmean_radius': {1: {'cmean_radius': {1: 0}}}}}}}},\n",
      "                                            1: {'cmean_texture': {0: {'cmean_radius': {1: {'cmean_radius': {1: {'cmean_radius': {1: 0}}}}}},\n",
      "                                                                  1: {'cmean_radius': {1: {'cmean_radius': {1: {'cmean_radius': {1: 0}}}}}}}},\n",
      "                                            2: 0}},\n",
      "                   2: 0}},\n",
      " {'cmean_radius': {0: 1,\n",
      "                   1: {'cmean_texture': {0: {'cmean_smoothness': {0: 0,\n",
      "                                                                  1: {'cmean_radius': {1: {'cmean_radius': {1: {'cmean_radius': {1: 0}}}}}}}},\n",
      "                                         1: 0,\n",
      "                                         2: 0}},\n",
      "                   2: 0}},\n",
      " {'cmean_radius': {0: {'cmean_texture': {0: 1,\n",
      "                                         1: {'cmean_smoothness': {0: 1, 1: 0}},\n",
      "                                         2: 1}},\n",
      "                   1: {'cmean_texture': {0: {'cmean_smoothness': {0: {'cmean_radius': {1: {'cmean_radius': {1: {'cmean_radius': {1: 0}}}}}},\n",
      "                                                                  1: {'cmean_radius': {1: {'cmean_radius': {1: {'cmean_radius': {1: 0}}}}}}}},\n",
      "                                         1: {'cmean_smoothness': {0: 0,\n",
      "                                                                  1: {'cmean_radius': {1: {'cmean_radius': {1: {'cmean_radius': {1: 0}}}}}}}}}}}},\n",
      " {'cmean_radius': {0: {'cmean_texture': {0: 1,\n",
      "                                         1: {'cmean_smoothness': {0: 1,\n",
      "                                                                  1: {'cmean_radius': {0: {'cmean_radius': {0: {'cmean_radius': {0: 0}}}}}},\n",
      "                                                                  2: 0}}}},\n",
      "                   1: {'cmean_smoothness': {0: {'cmean_texture': {0: 0,\n",
      "                                                                  1: {'cmean_radius': {1: {'cmean_radius': {1: {'cmean_radius': {1: 0}}}}}}}},\n",
      "                                            1: {'cmean_texture': {0: {'cmean_radius': {1: {'cmean_radius': {1: {'cmean_radius': {1: 0}}}}}},\n",
      "                                                                  1: 0}}}},\n",
      "                   2: 0}},\n",
      " {'cmean_radius': {0: {'cmean_smoothness': {0: 1,\n",
      "                                            1: {'cmean_texture': {0: {'cmean_radius': {0: {'cmean_radius': {0: {'cmean_radius': {0: 0}}}}}},\n",
      "                                                                  1: {'cmean_radius': {0: {'cmean_radius': {0: {'cmean_radius': {0: 0}}}}}}}},\n",
      "                                            2: 1}},\n",
      "                   1: {'cmean_texture': {0: {'cmean_radius': {1: {'cmean_radius': {1: {'cmean_radius': {1: {'cmean_radius': {1: 0}}}}}}}},\n",
      "                                         1: {'cmean_smoothness': {0: 0,\n",
      "                                                                  1: {'cmean_radius': {1: {'cmean_radius': {1: {'cmean_radius': {1: 0}}}}}},\n",
      "                                                                  2: 0}},\n",
      "                                         2: 0}},\n",
      "                   2: 0}},\n",
      " {'cmean_radius': {0: 1,\n",
      "                   1: {'cmean_smoothness': {0: 1,\n",
      "                                            1: {'cmean_texture': {0: {'cmean_radius': {1: {'cmean_radius': {1: {'cmean_radius': {1: 0}}}}}},\n",
      "                                                                  1: 0}}}},\n",
      "                   2: 0}},\n",
      " {'cmean_radius': {0: {'cmean_texture': {0: 1,\n",
      "                                         1: {'cmean_smoothness': {0: {'cmean_radius': {0: {'cmean_radius': {0: {'cmean_radius': {0: 0}}}}}},\n",
      "                                                                  1: {'cmean_radius': {0: {'cmean_radius': {0: {'cmean_radius': {0: 0}}}}}}}}}},\n",
      "                   1: {'cmean_texture': {0: {'cmean_radius': {1: {'cmean_radius': {1: {'cmean_radius': {1: {'cmean_radius': {1: 0}}}}}}}},\n",
      "                                         1: {'cmean_smoothness': {0: 0,\n",
      "                                                                  1: {'cmean_radius': {1: {'cmean_radius': {1: {'cmean_radius': {1: 0}}}}}}}}}}}},\n",
      " {'cmean_radius': {0: {'cmean_smoothness': {0: 1,\n",
      "                                            1: {'cmean_texture': {0: {'cmean_radius': {0: {'cmean_radius': {0: {'cmean_radius': {0: 0}}}}}},\n",
      "                                                                  1: 1}}}},\n",
      "                   1: {'cmean_smoothness': {0: {'cmean_texture': {0: 0,\n",
      "                                                                  1: {'cmean_radius': {1: {'cmean_radius': {1: {'cmean_radius': {1: 0}}}}}}}},\n",
      "                                            1: {'cmean_texture': {0: {'cmean_radius': {1: {'cmean_radius': {1: {'cmean_radius': {1: 0}}}}}},\n",
      "                                                                  1: 0}}}},\n",
      "                   2: 0}},\n",
      " {'cmean_radius': {0: {'cmean_smoothness': {0: 1,\n",
      "                                            1: {'cmean_texture': {0: {'cmean_radius': {0: {'cmean_radius': {0: {'cmean_radius': {0: 0}}}}}},\n",
      "                                                                  1: {'cmean_radius': {0: {'cmean_radius': {0: {'cmean_radius': {0: 0}}}}}}}},\n",
      "                                            2: 0}},\n",
      "                   1: {'cmean_texture': {0: {'cmean_smoothness': {0: {'cmean_radius': {1: {'cmean_radius': {1: {'cmean_radius': {1: 0}}}}}},\n",
      "                                                                  1: {'cmean_radius': {1: {'cmean_radius': {1: {'cmean_radius': {1: 0}}}}}}}},\n",
      "                                         1: 0}},\n",
      "                   2: 0}},\n",
      " {'cmean_radius': {0: {'cmean_texture': {0: 1,\n",
      "                                         1: {'cmean_smoothness': {0: {'cmean_radius': {0: {'cmean_radius': {0: {'cmean_radius': {0: 0}}}}}},\n",
      "                                                                  1: {'cmean_radius': {0: {'cmean_radius': {0: {'cmean_radius': {0: 0}}}}}},\n",
      "                                                                  2: 0}}}},\n",
      "                   1: {'cmean_texture': {0: {'cmean_smoothness': {0: {'cmean_radius': {1: {'cmean_radius': {1: {'cmean_radius': {1: 0}}}}}},\n",
      "                                                                  1: {'cmean_radius': {1: {'cmean_radius': {1: {'cmean_radius': {1: 0}}}}}}}},\n",
      "                                         1: 0,\n",
      "                                         2: 0}},\n",
      "                   2: 0}}]\n"
     ]
    }
   ],
   "source": [
    "pprint.pprint(forest)"
   ]
  },
  {
   "cell_type": "markdown",
   "id": "b7f3bab6",
   "metadata": {},
   "source": [
    "### Predicting the results of a random forest"
   ]
  },
  {
   "cell_type": "code",
   "execution_count": 22,
   "id": "fd34de4c",
   "metadata": {},
   "outputs": [],
   "source": [
    "def predict_rf(input_data, trees):\n",
    "    outputs = []\n",
    "    for i in trees:\n",
    "        outputs.append(predict(input_data, i))\n",
    "    return max(set(outputs), key = outputs.count)\n"
   ]
  },
  {
   "cell_type": "code",
   "execution_count": 23,
   "id": "7cbc3c80",
   "metadata": {},
   "outputs": [
    {
     "data": {
      "text/plain": [
       "0"
      ]
     },
     "execution_count": 23,
     "metadata": {},
     "output_type": "execute_result"
    }
   ],
   "source": [
    "input_data = {'cmean_radius': 1, 'cmean_texture': 0, 'cmean_smoothness': 1}\n",
    "predict_rf(input_data, forest)"
   ]
  },
  {
   "cell_type": "markdown",
   "id": "69ae275e",
   "metadata": {},
   "source": [
    "### Accuracy"
   ]
  },
  {
   "cell_type": "code",
   "execution_count": 24,
   "id": "4da24b54",
   "metadata": {},
   "outputs": [],
   "source": [
    "def calculate_accuracy(df, trees):\n",
    "    correct_predictions = 0\n",
    "    for index, row in df.iterrows():\n",
    "        input_data = row.drop('diagnosis').to_dict()\n",
    "        actual_class = row['diagnosis']\n",
    "        \n",
    "        prediction = predict_rf(input_data, trees)\n",
    "        \n",
    "        if prediction == actual_class:\n",
    "            correct_predictions += 1\n",
    "            \n",
    "    accuracy = correct_predictions / len(df)\n",
    "    return accuracy"
   ]
  },
  {
   "cell_type": "code",
   "execution_count": 25,
   "id": "edbeb5f4",
   "metadata": {},
   "outputs": [
    {
     "name": "stdout",
     "output_type": "stream",
     "text": [
      "Accuracy: 0.8137082601054482\n"
     ]
    }
   ],
   "source": [
    "accuracy = calculate_accuracy(df, trees)\n",
    "print(\"Accuracy:\", accuracy)"
   ]
  }
 ],
 "metadata": {
  "kernelspec": {
   "display_name": "Python 3 (ipykernel)",
   "language": "python",
   "name": "python3"
  },
  "language_info": {
   "codemirror_mode": {
    "name": "ipython",
    "version": 3
   },
   "file_extension": ".py",
   "mimetype": "text/x-python",
   "name": "python",
   "nbconvert_exporter": "python",
   "pygments_lexer": "ipython3",
   "version": "3.11.5"
  }
 },
 "nbformat": 4,
 "nbformat_minor": 5
}
